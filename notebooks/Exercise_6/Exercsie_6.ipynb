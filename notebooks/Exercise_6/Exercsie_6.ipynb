{
 "cells": [
  {
   "cell_type": "code",
   "execution_count": 2,
   "metadata": {},
   "outputs": [],
   "source": [
    "import pandas as pd\n",
    "import plotly.graph_objects as go"
   ]
  },
  {
   "cell_type": "code",
   "execution_count": 3,
   "metadata": {},
   "outputs": [],
   "source": [
    "## load data\n",
    "\n",
    "arabica_data = pd.read_csv('arabica_data_cleaned.csv')\n",
    "arabica_df = pd.DataFrame(arabica_data)\n",
    "# Unnamed: 0 is the index of the csv table"
   ]
  },
  {
   "cell_type": "code",
   "execution_count": 4,
   "metadata": {},
   "outputs": [
    {
     "data": {
      "text/html": [
       "<div>\n",
       "<style scoped>\n",
       "    .dataframe tbody tr th:only-of-type {\n",
       "        vertical-align: middle;\n",
       "    }\n",
       "\n",
       "    .dataframe tbody tr th {\n",
       "        vertical-align: top;\n",
       "    }\n",
       "\n",
       "    .dataframe thead th {\n",
       "        text-align: right;\n",
       "    }\n",
       "</style>\n",
       "<table border=\"1\" class=\"dataframe\">\n",
       "  <thead>\n",
       "    <tr style=\"text-align: right;\">\n",
       "      <th></th>\n",
       "      <th>Species</th>\n",
       "      <th>Owner</th>\n",
       "      <th>Country.of.Origin</th>\n",
       "      <th>Farm.Name</th>\n",
       "      <th>Lot.Number</th>\n",
       "      <th>Mill</th>\n",
       "      <th>ICO.Number</th>\n",
       "      <th>Company</th>\n",
       "      <th>Altitude</th>\n",
       "      <th>Region</th>\n",
       "      <th>...</th>\n",
       "      <th>Color</th>\n",
       "      <th>Category.Two.Defects</th>\n",
       "      <th>Expiration</th>\n",
       "      <th>Certification.Body</th>\n",
       "      <th>Certification.Address</th>\n",
       "      <th>Certification.Contact</th>\n",
       "      <th>unit_of_measurement</th>\n",
       "      <th>altitude_low_meters</th>\n",
       "      <th>altitude_high_meters</th>\n",
       "      <th>altitude_mean_meters</th>\n",
       "    </tr>\n",
       "  </thead>\n",
       "  <tbody>\n",
       "    <tr>\n",
       "      <th>0</th>\n",
       "      <td>Arabica</td>\n",
       "      <td>metad plc</td>\n",
       "      <td>Ethiopia</td>\n",
       "      <td>metad plc</td>\n",
       "      <td>NaN</td>\n",
       "      <td>metad plc</td>\n",
       "      <td>2014/2015</td>\n",
       "      <td>metad agricultural developmet plc</td>\n",
       "      <td>1950-2200</td>\n",
       "      <td>guji-hambela</td>\n",
       "      <td>...</td>\n",
       "      <td>Green</td>\n",
       "      <td>0</td>\n",
       "      <td>April 3rd, 2016</td>\n",
       "      <td>METAD Agricultural Development plc</td>\n",
       "      <td>309fcf77415a3661ae83e027f7e5f05dad786e44</td>\n",
       "      <td>19fef5a731de2db57d16da10287413f5f99bc2dd</td>\n",
       "      <td>m</td>\n",
       "      <td>1950.0</td>\n",
       "      <td>2200.0</td>\n",
       "      <td>2075.0</td>\n",
       "    </tr>\n",
       "    <tr>\n",
       "      <th>1</th>\n",
       "      <td>Arabica</td>\n",
       "      <td>metad plc</td>\n",
       "      <td>Ethiopia</td>\n",
       "      <td>metad plc</td>\n",
       "      <td>NaN</td>\n",
       "      <td>metad plc</td>\n",
       "      <td>2014/2015</td>\n",
       "      <td>metad agricultural developmet plc</td>\n",
       "      <td>1950-2200</td>\n",
       "      <td>guji-hambela</td>\n",
       "      <td>...</td>\n",
       "      <td>Green</td>\n",
       "      <td>1</td>\n",
       "      <td>April 3rd, 2016</td>\n",
       "      <td>METAD Agricultural Development plc</td>\n",
       "      <td>309fcf77415a3661ae83e027f7e5f05dad786e44</td>\n",
       "      <td>19fef5a731de2db57d16da10287413f5f99bc2dd</td>\n",
       "      <td>m</td>\n",
       "      <td>1950.0</td>\n",
       "      <td>2200.0</td>\n",
       "      <td>2075.0</td>\n",
       "    </tr>\n",
       "    <tr>\n",
       "      <th>2</th>\n",
       "      <td>Arabica</td>\n",
       "      <td>grounds for health admin</td>\n",
       "      <td>Guatemala</td>\n",
       "      <td>san marcos barrancas \"san cristobal cuch</td>\n",
       "      <td>NaN</td>\n",
       "      <td>NaN</td>\n",
       "      <td>NaN</td>\n",
       "      <td>NaN</td>\n",
       "      <td>1600 - 1800 m</td>\n",
       "      <td>NaN</td>\n",
       "      <td>...</td>\n",
       "      <td>NaN</td>\n",
       "      <td>0</td>\n",
       "      <td>May 31st, 2011</td>\n",
       "      <td>Specialty Coffee Association</td>\n",
       "      <td>36d0d00a3724338ba7937c52a378d085f2172daa</td>\n",
       "      <td>0878a7d4b9d35ddbf0fe2ce69a2062cceb45a660</td>\n",
       "      <td>m</td>\n",
       "      <td>1600.0</td>\n",
       "      <td>1800.0</td>\n",
       "      <td>1700.0</td>\n",
       "    </tr>\n",
       "    <tr>\n",
       "      <th>3</th>\n",
       "      <td>Arabica</td>\n",
       "      <td>yidnekachew dabessa</td>\n",
       "      <td>Ethiopia</td>\n",
       "      <td>yidnekachew dabessa coffee plantation</td>\n",
       "      <td>NaN</td>\n",
       "      <td>wolensu</td>\n",
       "      <td>NaN</td>\n",
       "      <td>yidnekachew debessa coffee plantation</td>\n",
       "      <td>1800-2200</td>\n",
       "      <td>oromia</td>\n",
       "      <td>...</td>\n",
       "      <td>Green</td>\n",
       "      <td>2</td>\n",
       "      <td>March 25th, 2016</td>\n",
       "      <td>METAD Agricultural Development plc</td>\n",
       "      <td>309fcf77415a3661ae83e027f7e5f05dad786e44</td>\n",
       "      <td>19fef5a731de2db57d16da10287413f5f99bc2dd</td>\n",
       "      <td>m</td>\n",
       "      <td>1800.0</td>\n",
       "      <td>2200.0</td>\n",
       "      <td>2000.0</td>\n",
       "    </tr>\n",
       "    <tr>\n",
       "      <th>4</th>\n",
       "      <td>Arabica</td>\n",
       "      <td>metad plc</td>\n",
       "      <td>Ethiopia</td>\n",
       "      <td>metad plc</td>\n",
       "      <td>NaN</td>\n",
       "      <td>metad plc</td>\n",
       "      <td>2014/2015</td>\n",
       "      <td>metad agricultural developmet plc</td>\n",
       "      <td>1950-2200</td>\n",
       "      <td>guji-hambela</td>\n",
       "      <td>...</td>\n",
       "      <td>Green</td>\n",
       "      <td>2</td>\n",
       "      <td>April 3rd, 2016</td>\n",
       "      <td>METAD Agricultural Development plc</td>\n",
       "      <td>309fcf77415a3661ae83e027f7e5f05dad786e44</td>\n",
       "      <td>19fef5a731de2db57d16da10287413f5f99bc2dd</td>\n",
       "      <td>m</td>\n",
       "      <td>1950.0</td>\n",
       "      <td>2200.0</td>\n",
       "      <td>2075.0</td>\n",
       "    </tr>\n",
       "  </tbody>\n",
       "</table>\n",
       "<p>5 rows × 43 columns</p>\n",
       "</div>"
      ],
      "text/plain": [
       "   Species                     Owner Country.of.Origin  \\\n",
       "0  Arabica                 metad plc          Ethiopia   \n",
       "1  Arabica                 metad plc          Ethiopia   \n",
       "2  Arabica  grounds for health admin         Guatemala   \n",
       "3  Arabica       yidnekachew dabessa          Ethiopia   \n",
       "4  Arabica                 metad plc          Ethiopia   \n",
       "\n",
       "                                  Farm.Name Lot.Number       Mill ICO.Number  \\\n",
       "0                                 metad plc        NaN  metad plc  2014/2015   \n",
       "1                                 metad plc        NaN  metad plc  2014/2015   \n",
       "2  san marcos barrancas \"san cristobal cuch        NaN        NaN        NaN   \n",
       "3     yidnekachew dabessa coffee plantation        NaN    wolensu        NaN   \n",
       "4                                 metad plc        NaN  metad plc  2014/2015   \n",
       "\n",
       "                                 Company       Altitude        Region  ...  \\\n",
       "0      metad agricultural developmet plc      1950-2200  guji-hambela  ...   \n",
       "1      metad agricultural developmet plc      1950-2200  guji-hambela  ...   \n",
       "2                                    NaN  1600 - 1800 m           NaN  ...   \n",
       "3  yidnekachew debessa coffee plantation      1800-2200        oromia  ...   \n",
       "4      metad agricultural developmet plc      1950-2200  guji-hambela  ...   \n",
       "\n",
       "   Color  Category.Two.Defects        Expiration  \\\n",
       "0  Green                     0   April 3rd, 2016   \n",
       "1  Green                     1   April 3rd, 2016   \n",
       "2    NaN                     0    May 31st, 2011   \n",
       "3  Green                     2  March 25th, 2016   \n",
       "4  Green                     2   April 3rd, 2016   \n",
       "\n",
       "                   Certification.Body  \\\n",
       "0  METAD Agricultural Development plc   \n",
       "1  METAD Agricultural Development plc   \n",
       "2        Specialty Coffee Association   \n",
       "3  METAD Agricultural Development plc   \n",
       "4  METAD Agricultural Development plc   \n",
       "\n",
       "                      Certification.Address  \\\n",
       "0  309fcf77415a3661ae83e027f7e5f05dad786e44   \n",
       "1  309fcf77415a3661ae83e027f7e5f05dad786e44   \n",
       "2  36d0d00a3724338ba7937c52a378d085f2172daa   \n",
       "3  309fcf77415a3661ae83e027f7e5f05dad786e44   \n",
       "4  309fcf77415a3661ae83e027f7e5f05dad786e44   \n",
       "\n",
       "                      Certification.Contact unit_of_measurement  \\\n",
       "0  19fef5a731de2db57d16da10287413f5f99bc2dd                   m   \n",
       "1  19fef5a731de2db57d16da10287413f5f99bc2dd                   m   \n",
       "2  0878a7d4b9d35ddbf0fe2ce69a2062cceb45a660                   m   \n",
       "3  19fef5a731de2db57d16da10287413f5f99bc2dd                   m   \n",
       "4  19fef5a731de2db57d16da10287413f5f99bc2dd                   m   \n",
       "\n",
       "  altitude_low_meters altitude_high_meters  altitude_mean_meters  \n",
       "0              1950.0               2200.0                2075.0  \n",
       "1              1950.0               2200.0                2075.0  \n",
       "2              1600.0               1800.0                1700.0  \n",
       "3              1800.0               2200.0                2000.0  \n",
       "4              1950.0               2200.0                2075.0  \n",
       "\n",
       "[5 rows x 43 columns]"
      ]
     },
     "execution_count": 4,
     "metadata": {},
     "output_type": "execute_result"
    }
   ],
   "source": [
    "#delete the column 'Unnamed: 0'\n",
    "arabica_df.drop(columns=['Unnamed: 0'], inplace=True)\n",
    "arabica_df.head()"
   ]
  },
  {
   "cell_type": "code",
   "execution_count": 5,
   "metadata": {},
   "outputs": [
    {
     "data": {
      "text/html": [
       "<div>\n",
       "<style scoped>\n",
       "    .dataframe tbody tr th:only-of-type {\n",
       "        vertical-align: middle;\n",
       "    }\n",
       "\n",
       "    .dataframe tbody tr th {\n",
       "        vertical-align: top;\n",
       "    }\n",
       "\n",
       "    .dataframe thead th {\n",
       "        text-align: right;\n",
       "    }\n",
       "</style>\n",
       "<table border=\"1\" class=\"dataframe\">\n",
       "  <thead>\n",
       "    <tr style=\"text-align: right;\">\n",
       "      <th></th>\n",
       "      <th>Country.of.Origin</th>\n",
       "      <th>Producer</th>\n",
       "      <th>Processing.Method</th>\n",
       "    </tr>\n",
       "  </thead>\n",
       "  <tbody>\n",
       "    <tr>\n",
       "      <th>0</th>\n",
       "      <td>Ethiopia</td>\n",
       "      <td>METAD PLC</td>\n",
       "      <td>Washed / Wet</td>\n",
       "    </tr>\n",
       "    <tr>\n",
       "      <th>1</th>\n",
       "      <td>Ethiopia</td>\n",
       "      <td>METAD PLC</td>\n",
       "      <td>Washed / Wet</td>\n",
       "    </tr>\n",
       "    <tr>\n",
       "      <th>2</th>\n",
       "      <td>Guatemala</td>\n",
       "      <td>NaN</td>\n",
       "      <td>NaN</td>\n",
       "    </tr>\n",
       "    <tr>\n",
       "      <th>3</th>\n",
       "      <td>Ethiopia</td>\n",
       "      <td>Yidnekachew Dabessa Coffee Plantation</td>\n",
       "      <td>Natural / Dry</td>\n",
       "    </tr>\n",
       "    <tr>\n",
       "      <th>4</th>\n",
       "      <td>Ethiopia</td>\n",
       "      <td>METAD PLC</td>\n",
       "      <td>Washed / Wet</td>\n",
       "    </tr>\n",
       "  </tbody>\n",
       "</table>\n",
       "</div>"
      ],
      "text/plain": [
       "  Country.of.Origin                               Producer Processing.Method\n",
       "0          Ethiopia                              METAD PLC      Washed / Wet\n",
       "1          Ethiopia                              METAD PLC      Washed / Wet\n",
       "2         Guatemala                                    NaN               NaN\n",
       "3          Ethiopia  Yidnekachew Dabessa Coffee Plantation     Natural / Dry\n",
       "4          Ethiopia                              METAD PLC      Washed / Wet"
      ]
     },
     "execution_count": 5,
     "metadata": {},
     "output_type": "execute_result"
    }
   ],
   "source": [
    "## Keep only the columns 'Country.of.Origin','Producer' and 'Processing.Method'\n",
    "\n",
    "arabica_df = arabica_df[['Country.of.Origin','Producer', 'Processing.Method']]\n",
    "arabica_df.head()"
   ]
  },
  {
   "cell_type": "code",
   "execution_count": 7,
   "metadata": {},
   "outputs": [
    {
     "data": {
      "text/html": [
       "<div>\n",
       "<style scoped>\n",
       "    .dataframe tbody tr th:only-of-type {\n",
       "        vertical-align: middle;\n",
       "    }\n",
       "\n",
       "    .dataframe tbody tr th {\n",
       "        vertical-align: top;\n",
       "    }\n",
       "\n",
       "    .dataframe thead th {\n",
       "        text-align: right;\n",
       "    }\n",
       "</style>\n",
       "<table border=\"1\" class=\"dataframe\">\n",
       "  <thead>\n",
       "    <tr style=\"text-align: right;\">\n",
       "      <th></th>\n",
       "      <th>Country of Origin</th>\n",
       "      <th>Producer</th>\n",
       "      <th>Processing Method</th>\n",
       "    </tr>\n",
       "  </thead>\n",
       "  <tbody>\n",
       "    <tr>\n",
       "      <th>0</th>\n",
       "      <td>Ethiopia</td>\n",
       "      <td>METAD PLC</td>\n",
       "      <td>Washed / Wet</td>\n",
       "    </tr>\n",
       "    <tr>\n",
       "      <th>1</th>\n",
       "      <td>Ethiopia</td>\n",
       "      <td>METAD PLC</td>\n",
       "      <td>Washed / Wet</td>\n",
       "    </tr>\n",
       "    <tr>\n",
       "      <th>2</th>\n",
       "      <td>Guatemala</td>\n",
       "      <td>NaN</td>\n",
       "      <td>NaN</td>\n",
       "    </tr>\n",
       "    <tr>\n",
       "      <th>3</th>\n",
       "      <td>Ethiopia</td>\n",
       "      <td>Yidnekachew Dabessa Coffee Plantation</td>\n",
       "      <td>Natural / Dry</td>\n",
       "    </tr>\n",
       "    <tr>\n",
       "      <th>4</th>\n",
       "      <td>Ethiopia</td>\n",
       "      <td>METAD PLC</td>\n",
       "      <td>Washed / Wet</td>\n",
       "    </tr>\n",
       "  </tbody>\n",
       "</table>\n",
       "</div>"
      ],
      "text/plain": [
       "  Country of Origin                               Producer Processing Method\n",
       "0          Ethiopia                              METAD PLC      Washed / Wet\n",
       "1          Ethiopia                              METAD PLC      Washed / Wet\n",
       "2         Guatemala                                    NaN               NaN\n",
       "3          Ethiopia  Yidnekachew Dabessa Coffee Plantation     Natural / Dry\n",
       "4          Ethiopia                              METAD PLC      Washed / Wet"
      ]
     },
     "execution_count": 7,
     "metadata": {},
     "output_type": "execute_result"
    }
   ],
   "source": [
    "## Rename the columns\n",
    "\n",
    "arabica_df.columns = ['Country of Origin', 'Producer', 'Processing Method']\n",
    "arabica_df.head()"
   ]
  },
  {
   "cell_type": "code",
   "execution_count": 135,
   "metadata": {},
   "outputs": [
    {
     "data": {
      "application/vnd.plotly.v1+json": {
       "config": {
        "plotlyServerURL": "https://plot.ly"
       },
       "data": [
        {
         "marker": {
          "color": "white"
         },
         "type": "bar",
         "x": [
          "Ethiopia",
          "Guatemala",
          "Brazil",
          "Peru",
          "United States",
          "United States (Hawaii)",
          "Indonesia",
          "China",
          "Costa Rica",
          "Mexico",
          "Uganda",
          "Honduras",
          "Taiwan",
          "Nicaragua",
          "Tanzania, United Republic Of",
          "Kenya",
          "Thailand",
          "Colombia",
          "Panama",
          "Papua New Guinea",
          "El Salvador",
          "Japan",
          "Ecuador",
          "United States (Puerto Rico)",
          "Haiti",
          "Burundi",
          "Vietnam",
          "Philippines",
          "Rwanda",
          "Malawi",
          "Laos",
          "Zambia",
          "Myanmar",
          "Mauritius",
          "Cote d?Ivoire",
          null,
          "India"
         ],
         "y": [
          236,
          183,
          181,
          132,
          75,
          73,
          53,
          51,
          44,
          40,
          32,
          26,
          26,
          25,
          21,
          20,
          16,
          11,
          10,
          8,
          8,
          7,
          6,
          5,
          4,
          4,
          3,
          2,
          1,
          1,
          1,
          1,
          1,
          1,
          1,
          1
         ]
        }
       ],
       "layout": {
        "template": {
         "data": {
          "bar": [
           {
            "error_x": {
             "color": "#f2f5fa"
            },
            "error_y": {
             "color": "#f2f5fa"
            },
            "marker": {
             "line": {
              "color": "rgb(17,17,17)",
              "width": 0.5
             }
            },
            "type": "bar"
           }
          ],
          "barpolar": [
           {
            "marker": {
             "line": {
              "color": "rgb(17,17,17)",
              "width": 0.5
             }
            },
            "type": "barpolar"
           }
          ],
          "carpet": [
           {
            "aaxis": {
             "endlinecolor": "#A2B1C6",
             "gridcolor": "#506784",
             "linecolor": "#506784",
             "minorgridcolor": "#506784",
             "startlinecolor": "#A2B1C6"
            },
            "baxis": {
             "endlinecolor": "#A2B1C6",
             "gridcolor": "#506784",
             "linecolor": "#506784",
             "minorgridcolor": "#506784",
             "startlinecolor": "#A2B1C6"
            },
            "type": "carpet"
           }
          ],
          "choropleth": [
           {
            "colorbar": {
             "outlinewidth": 0,
             "ticks": ""
            },
            "type": "choropleth"
           }
          ],
          "contour": [
           {
            "colorbar": {
             "outlinewidth": 0,
             "ticks": ""
            },
            "colorscale": [
             [
              0,
              "#0d0887"
             ],
             [
              0.1111111111111111,
              "#46039f"
             ],
             [
              0.2222222222222222,
              "#7201a8"
             ],
             [
              0.3333333333333333,
              "#9c179e"
             ],
             [
              0.4444444444444444,
              "#bd3786"
             ],
             [
              0.5555555555555556,
              "#d8576b"
             ],
             [
              0.6666666666666666,
              "#ed7953"
             ],
             [
              0.7777777777777778,
              "#fb9f3a"
             ],
             [
              0.8888888888888888,
              "#fdca26"
             ],
             [
              1,
              "#f0f921"
             ]
            ],
            "type": "contour"
           }
          ],
          "contourcarpet": [
           {
            "colorbar": {
             "outlinewidth": 0,
             "ticks": ""
            },
            "type": "contourcarpet"
           }
          ],
          "heatmap": [
           {
            "colorbar": {
             "outlinewidth": 0,
             "ticks": ""
            },
            "colorscale": [
             [
              0,
              "#0d0887"
             ],
             [
              0.1111111111111111,
              "#46039f"
             ],
             [
              0.2222222222222222,
              "#7201a8"
             ],
             [
              0.3333333333333333,
              "#9c179e"
             ],
             [
              0.4444444444444444,
              "#bd3786"
             ],
             [
              0.5555555555555556,
              "#d8576b"
             ],
             [
              0.6666666666666666,
              "#ed7953"
             ],
             [
              0.7777777777777778,
              "#fb9f3a"
             ],
             [
              0.8888888888888888,
              "#fdca26"
             ],
             [
              1,
              "#f0f921"
             ]
            ],
            "type": "heatmap"
           }
          ],
          "heatmapgl": [
           {
            "colorbar": {
             "outlinewidth": 0,
             "ticks": ""
            },
            "colorscale": [
             [
              0,
              "#0d0887"
             ],
             [
              0.1111111111111111,
              "#46039f"
             ],
             [
              0.2222222222222222,
              "#7201a8"
             ],
             [
              0.3333333333333333,
              "#9c179e"
             ],
             [
              0.4444444444444444,
              "#bd3786"
             ],
             [
              0.5555555555555556,
              "#d8576b"
             ],
             [
              0.6666666666666666,
              "#ed7953"
             ],
             [
              0.7777777777777778,
              "#fb9f3a"
             ],
             [
              0.8888888888888888,
              "#fdca26"
             ],
             [
              1,
              "#f0f921"
             ]
            ],
            "type": "heatmapgl"
           }
          ],
          "histogram": [
           {
            "marker": {
             "colorbar": {
              "outlinewidth": 0,
              "ticks": ""
             }
            },
            "type": "histogram"
           }
          ],
          "histogram2d": [
           {
            "colorbar": {
             "outlinewidth": 0,
             "ticks": ""
            },
            "colorscale": [
             [
              0,
              "#0d0887"
             ],
             [
              0.1111111111111111,
              "#46039f"
             ],
             [
              0.2222222222222222,
              "#7201a8"
             ],
             [
              0.3333333333333333,
              "#9c179e"
             ],
             [
              0.4444444444444444,
              "#bd3786"
             ],
             [
              0.5555555555555556,
              "#d8576b"
             ],
             [
              0.6666666666666666,
              "#ed7953"
             ],
             [
              0.7777777777777778,
              "#fb9f3a"
             ],
             [
              0.8888888888888888,
              "#fdca26"
             ],
             [
              1,
              "#f0f921"
             ]
            ],
            "type": "histogram2d"
           }
          ],
          "histogram2dcontour": [
           {
            "colorbar": {
             "outlinewidth": 0,
             "ticks": ""
            },
            "colorscale": [
             [
              0,
              "#0d0887"
             ],
             [
              0.1111111111111111,
              "#46039f"
             ],
             [
              0.2222222222222222,
              "#7201a8"
             ],
             [
              0.3333333333333333,
              "#9c179e"
             ],
             [
              0.4444444444444444,
              "#bd3786"
             ],
             [
              0.5555555555555556,
              "#d8576b"
             ],
             [
              0.6666666666666666,
              "#ed7953"
             ],
             [
              0.7777777777777778,
              "#fb9f3a"
             ],
             [
              0.8888888888888888,
              "#fdca26"
             ],
             [
              1,
              "#f0f921"
             ]
            ],
            "type": "histogram2dcontour"
           }
          ],
          "mesh3d": [
           {
            "colorbar": {
             "outlinewidth": 0,
             "ticks": ""
            },
            "type": "mesh3d"
           }
          ],
          "parcoords": [
           {
            "line": {
             "colorbar": {
              "outlinewidth": 0,
              "ticks": ""
             }
            },
            "type": "parcoords"
           }
          ],
          "pie": [
           {
            "automargin": true,
            "type": "pie"
           }
          ],
          "scatter": [
           {
            "marker": {
             "line": {
              "color": "#283442"
             }
            },
            "type": "scatter"
           }
          ],
          "scatter3d": [
           {
            "line": {
             "colorbar": {
              "outlinewidth": 0,
              "ticks": ""
             }
            },
            "marker": {
             "colorbar": {
              "outlinewidth": 0,
              "ticks": ""
             }
            },
            "type": "scatter3d"
           }
          ],
          "scattercarpet": [
           {
            "marker": {
             "colorbar": {
              "outlinewidth": 0,
              "ticks": ""
             }
            },
            "type": "scattercarpet"
           }
          ],
          "scattergeo": [
           {
            "marker": {
             "colorbar": {
              "outlinewidth": 0,
              "ticks": ""
             }
            },
            "type": "scattergeo"
           }
          ],
          "scattergl": [
           {
            "marker": {
             "line": {
              "color": "#283442"
             }
            },
            "type": "scattergl"
           }
          ],
          "scattermapbox": [
           {
            "marker": {
             "colorbar": {
              "outlinewidth": 0,
              "ticks": ""
             }
            },
            "type": "scattermapbox"
           }
          ],
          "scatterpolar": [
           {
            "marker": {
             "colorbar": {
              "outlinewidth": 0,
              "ticks": ""
             }
            },
            "type": "scatterpolar"
           }
          ],
          "scatterpolargl": [
           {
            "marker": {
             "colorbar": {
              "outlinewidth": 0,
              "ticks": ""
             }
            },
            "type": "scatterpolargl"
           }
          ],
          "scatterternary": [
           {
            "marker": {
             "colorbar": {
              "outlinewidth": 0,
              "ticks": ""
             }
            },
            "type": "scatterternary"
           }
          ],
          "surface": [
           {
            "colorbar": {
             "outlinewidth": 0,
             "ticks": ""
            },
            "colorscale": [
             [
              0,
              "#0d0887"
             ],
             [
              0.1111111111111111,
              "#46039f"
             ],
             [
              0.2222222222222222,
              "#7201a8"
             ],
             [
              0.3333333333333333,
              "#9c179e"
             ],
             [
              0.4444444444444444,
              "#bd3786"
             ],
             [
              0.5555555555555556,
              "#d8576b"
             ],
             [
              0.6666666666666666,
              "#ed7953"
             ],
             [
              0.7777777777777778,
              "#fb9f3a"
             ],
             [
              0.8888888888888888,
              "#fdca26"
             ],
             [
              1,
              "#f0f921"
             ]
            ],
            "type": "surface"
           }
          ],
          "table": [
           {
            "cells": {
             "fill": {
              "color": "#506784"
             },
             "line": {
              "color": "rgb(17,17,17)"
             }
            },
            "header": {
             "fill": {
              "color": "#2a3f5f"
             },
             "line": {
              "color": "rgb(17,17,17)"
             }
            },
            "type": "table"
           }
          ]
         },
         "layout": {
          "annotationdefaults": {
           "arrowcolor": "#f2f5fa",
           "arrowhead": 0,
           "arrowwidth": 1
          },
          "autotypenumbers": "strict",
          "coloraxis": {
           "colorbar": {
            "outlinewidth": 0,
            "ticks": ""
           }
          },
          "colorscale": {
           "diverging": [
            [
             0,
             "#8e0152"
            ],
            [
             0.1,
             "#c51b7d"
            ],
            [
             0.2,
             "#de77ae"
            ],
            [
             0.3,
             "#f1b6da"
            ],
            [
             0.4,
             "#fde0ef"
            ],
            [
             0.5,
             "#f7f7f7"
            ],
            [
             0.6,
             "#e6f5d0"
            ],
            [
             0.7,
             "#b8e186"
            ],
            [
             0.8,
             "#7fbc41"
            ],
            [
             0.9,
             "#4d9221"
            ],
            [
             1,
             "#276419"
            ]
           ],
           "sequential": [
            [
             0,
             "#0d0887"
            ],
            [
             0.1111111111111111,
             "#46039f"
            ],
            [
             0.2222222222222222,
             "#7201a8"
            ],
            [
             0.3333333333333333,
             "#9c179e"
            ],
            [
             0.4444444444444444,
             "#bd3786"
            ],
            [
             0.5555555555555556,
             "#d8576b"
            ],
            [
             0.6666666666666666,
             "#ed7953"
            ],
            [
             0.7777777777777778,
             "#fb9f3a"
            ],
            [
             0.8888888888888888,
             "#fdca26"
            ],
            [
             1,
             "#f0f921"
            ]
           ],
           "sequentialminus": [
            [
             0,
             "#0d0887"
            ],
            [
             0.1111111111111111,
             "#46039f"
            ],
            [
             0.2222222222222222,
             "#7201a8"
            ],
            [
             0.3333333333333333,
             "#9c179e"
            ],
            [
             0.4444444444444444,
             "#bd3786"
            ],
            [
             0.5555555555555556,
             "#d8576b"
            ],
            [
             0.6666666666666666,
             "#ed7953"
            ],
            [
             0.7777777777777778,
             "#fb9f3a"
            ],
            [
             0.8888888888888888,
             "#fdca26"
            ],
            [
             1,
             "#f0f921"
            ]
           ]
          },
          "colorway": [
           "#636efa",
           "#EF553B",
           "#00cc96",
           "#ab63fa",
           "#FFA15A",
           "#19d3f3",
           "#FF6692",
           "#B6E880",
           "#FF97FF",
           "#FECB52"
          ],
          "font": {
           "color": "#f2f5fa"
          },
          "geo": {
           "bgcolor": "rgb(17,17,17)",
           "lakecolor": "rgb(17,17,17)",
           "landcolor": "rgb(17,17,17)",
           "showlakes": true,
           "showland": true,
           "subunitcolor": "#506784"
          },
          "hoverlabel": {
           "align": "left"
          },
          "hovermode": "closest",
          "mapbox": {
           "style": "dark"
          },
          "paper_bgcolor": "rgb(17,17,17)",
          "plot_bgcolor": "rgb(17,17,17)",
          "polar": {
           "angularaxis": {
            "gridcolor": "#506784",
            "linecolor": "#506784",
            "ticks": ""
           },
           "bgcolor": "rgb(17,17,17)",
           "radialaxis": {
            "gridcolor": "#506784",
            "linecolor": "#506784",
            "ticks": ""
           }
          },
          "scene": {
           "xaxis": {
            "backgroundcolor": "rgb(17,17,17)",
            "gridcolor": "#506784",
            "gridwidth": 2,
            "linecolor": "#506784",
            "showbackground": true,
            "ticks": "",
            "zerolinecolor": "#C8D4E3"
           },
           "yaxis": {
            "backgroundcolor": "rgb(17,17,17)",
            "gridcolor": "#506784",
            "gridwidth": 2,
            "linecolor": "#506784",
            "showbackground": true,
            "ticks": "",
            "zerolinecolor": "#C8D4E3"
           },
           "zaxis": {
            "backgroundcolor": "rgb(17,17,17)",
            "gridcolor": "#506784",
            "gridwidth": 2,
            "linecolor": "#506784",
            "showbackground": true,
            "ticks": "",
            "zerolinecolor": "#C8D4E3"
           }
          },
          "shapedefaults": {
           "line": {
            "color": "#f2f5fa"
           }
          },
          "sliderdefaults": {
           "bgcolor": "#C8D4E3",
           "bordercolor": "rgb(17,17,17)",
           "borderwidth": 1,
           "tickwidth": 0
          },
          "ternary": {
           "aaxis": {
            "gridcolor": "#506784",
            "linecolor": "#506784",
            "ticks": ""
           },
           "baxis": {
            "gridcolor": "#506784",
            "linecolor": "#506784",
            "ticks": ""
           },
           "bgcolor": "rgb(17,17,17)",
           "caxis": {
            "gridcolor": "#506784",
            "linecolor": "#506784",
            "ticks": ""
           }
          },
          "title": {
           "x": 0.05
          },
          "updatemenudefaults": {
           "bgcolor": "#506784",
           "borderwidth": 0
          },
          "xaxis": {
           "automargin": true,
           "gridcolor": "#283442",
           "linecolor": "#506784",
           "ticks": "",
           "title": {
            "standoff": 15
           },
           "zerolinecolor": "#283442",
           "zerolinewidth": 2
          },
          "yaxis": {
           "automargin": true,
           "gridcolor": "#283442",
           "linecolor": "#506784",
           "ticks": "",
           "title": {
            "standoff": 15
           },
           "zerolinecolor": "#283442",
           "zerolinewidth": 2
          }
         }
        },
        "title": {
         "text": "Arabica: Country of Origin"
        },
        "xaxis": {
         "title": {
          "text": "Country of Origin"
         }
        },
        "yaxis": {
         "title": {
          "text": "Counts"
         }
        }
       }
      },
      "text/html": [
       "<div>                            <div id=\"1edc4dfd-7e2a-437d-8fea-822c056a521e\" class=\"plotly-graph-div\" style=\"height:525px; width:100%;\"></div>            <script type=\"text/javascript\">                require([\"plotly\"], function(Plotly) {                    window.PLOTLYENV=window.PLOTLYENV || {};                                    if (document.getElementById(\"1edc4dfd-7e2a-437d-8fea-822c056a521e\")) {                    Plotly.newPlot(                        \"1edc4dfd-7e2a-437d-8fea-822c056a521e\",                        [{\"marker\": {\"color\": \"white\"}, \"type\": \"bar\", \"x\": [\"Ethiopia\", \"Guatemala\", \"Brazil\", \"Peru\", \"United States\", \"United States (Hawaii)\", \"Indonesia\", \"China\", \"Costa Rica\", \"Mexico\", \"Uganda\", \"Honduras\", \"Taiwan\", \"Nicaragua\", \"Tanzania, United Republic Of\", \"Kenya\", \"Thailand\", \"Colombia\", \"Panama\", \"Papua New Guinea\", \"El Salvador\", \"Japan\", \"Ecuador\", \"United States (Puerto Rico)\", \"Haiti\", \"Burundi\", \"Vietnam\", \"Philippines\", \"Rwanda\", \"Malawi\", \"Laos\", \"Zambia\", \"Myanmar\", \"Mauritius\", \"Cote d?Ivoire\", null, \"India\"], \"y\": [236, 183, 181, 132, 75, 73, 53, 51, 44, 40, 32, 26, 26, 25, 21, 20, 16, 11, 10, 8, 8, 7, 6, 5, 4, 4, 3, 2, 1, 1, 1, 1, 1, 1, 1, 1]}],                        {\"template\": {\"data\": {\"bar\": [{\"error_x\": {\"color\": \"#f2f5fa\"}, \"error_y\": {\"color\": \"#f2f5fa\"}, \"marker\": {\"line\": {\"color\": \"rgb(17,17,17)\", \"width\": 0.5}}, \"type\": \"bar\"}], \"barpolar\": [{\"marker\": {\"line\": {\"color\": \"rgb(17,17,17)\", \"width\": 0.5}}, \"type\": \"barpolar\"}], \"carpet\": [{\"aaxis\": {\"endlinecolor\": \"#A2B1C6\", \"gridcolor\": \"#506784\", \"linecolor\": \"#506784\", \"minorgridcolor\": \"#506784\", \"startlinecolor\": \"#A2B1C6\"}, \"baxis\": {\"endlinecolor\": \"#A2B1C6\", \"gridcolor\": \"#506784\", \"linecolor\": \"#506784\", \"minorgridcolor\": \"#506784\", \"startlinecolor\": \"#A2B1C6\"}, \"type\": \"carpet\"}], \"choropleth\": [{\"colorbar\": {\"outlinewidth\": 0, \"ticks\": \"\"}, \"type\": \"choropleth\"}], \"contour\": [{\"colorbar\": {\"outlinewidth\": 0, \"ticks\": \"\"}, \"colorscale\": [[0.0, \"#0d0887\"], [0.1111111111111111, \"#46039f\"], [0.2222222222222222, \"#7201a8\"], [0.3333333333333333, \"#9c179e\"], [0.4444444444444444, \"#bd3786\"], [0.5555555555555556, \"#d8576b\"], [0.6666666666666666, \"#ed7953\"], [0.7777777777777778, \"#fb9f3a\"], [0.8888888888888888, \"#fdca26\"], [1.0, \"#f0f921\"]], \"type\": \"contour\"}], \"contourcarpet\": [{\"colorbar\": {\"outlinewidth\": 0, \"ticks\": \"\"}, \"type\": \"contourcarpet\"}], \"heatmap\": [{\"colorbar\": {\"outlinewidth\": 0, \"ticks\": \"\"}, \"colorscale\": [[0.0, \"#0d0887\"], [0.1111111111111111, \"#46039f\"], [0.2222222222222222, \"#7201a8\"], [0.3333333333333333, \"#9c179e\"], [0.4444444444444444, \"#bd3786\"], [0.5555555555555556, \"#d8576b\"], [0.6666666666666666, \"#ed7953\"], [0.7777777777777778, \"#fb9f3a\"], [0.8888888888888888, \"#fdca26\"], [1.0, \"#f0f921\"]], \"type\": \"heatmap\"}], \"heatmapgl\": [{\"colorbar\": {\"outlinewidth\": 0, \"ticks\": \"\"}, \"colorscale\": [[0.0, \"#0d0887\"], [0.1111111111111111, \"#46039f\"], [0.2222222222222222, \"#7201a8\"], [0.3333333333333333, \"#9c179e\"], [0.4444444444444444, \"#bd3786\"], [0.5555555555555556, \"#d8576b\"], [0.6666666666666666, \"#ed7953\"], [0.7777777777777778, \"#fb9f3a\"], [0.8888888888888888, \"#fdca26\"], [1.0, \"#f0f921\"]], \"type\": \"heatmapgl\"}], \"histogram\": [{\"marker\": {\"colorbar\": {\"outlinewidth\": 0, \"ticks\": \"\"}}, \"type\": \"histogram\"}], \"histogram2d\": [{\"colorbar\": {\"outlinewidth\": 0, \"ticks\": \"\"}, \"colorscale\": [[0.0, \"#0d0887\"], [0.1111111111111111, \"#46039f\"], [0.2222222222222222, \"#7201a8\"], [0.3333333333333333, \"#9c179e\"], [0.4444444444444444, \"#bd3786\"], [0.5555555555555556, \"#d8576b\"], [0.6666666666666666, \"#ed7953\"], [0.7777777777777778, \"#fb9f3a\"], [0.8888888888888888, \"#fdca26\"], [1.0, \"#f0f921\"]], \"type\": \"histogram2d\"}], \"histogram2dcontour\": [{\"colorbar\": {\"outlinewidth\": 0, \"ticks\": \"\"}, \"colorscale\": [[0.0, \"#0d0887\"], [0.1111111111111111, \"#46039f\"], [0.2222222222222222, \"#7201a8\"], [0.3333333333333333, \"#9c179e\"], [0.4444444444444444, \"#bd3786\"], [0.5555555555555556, \"#d8576b\"], [0.6666666666666666, \"#ed7953\"], [0.7777777777777778, \"#fb9f3a\"], [0.8888888888888888, \"#fdca26\"], [1.0, \"#f0f921\"]], \"type\": \"histogram2dcontour\"}], \"mesh3d\": [{\"colorbar\": {\"outlinewidth\": 0, \"ticks\": \"\"}, \"type\": \"mesh3d\"}], \"parcoords\": [{\"line\": {\"colorbar\": {\"outlinewidth\": 0, \"ticks\": \"\"}}, \"type\": \"parcoords\"}], \"pie\": [{\"automargin\": true, \"type\": \"pie\"}], \"scatter\": [{\"marker\": {\"line\": {\"color\": \"#283442\"}}, \"type\": \"scatter\"}], \"scatter3d\": [{\"line\": {\"colorbar\": {\"outlinewidth\": 0, \"ticks\": \"\"}}, \"marker\": {\"colorbar\": {\"outlinewidth\": 0, \"ticks\": \"\"}}, \"type\": \"scatter3d\"}], \"scattercarpet\": [{\"marker\": {\"colorbar\": {\"outlinewidth\": 0, \"ticks\": \"\"}}, \"type\": \"scattercarpet\"}], \"scattergeo\": [{\"marker\": {\"colorbar\": {\"outlinewidth\": 0, \"ticks\": \"\"}}, \"type\": \"scattergeo\"}], \"scattergl\": [{\"marker\": {\"line\": {\"color\": \"#283442\"}}, \"type\": \"scattergl\"}], \"scattermapbox\": [{\"marker\": {\"colorbar\": {\"outlinewidth\": 0, \"ticks\": \"\"}}, \"type\": \"scattermapbox\"}], \"scatterpolar\": [{\"marker\": {\"colorbar\": {\"outlinewidth\": 0, \"ticks\": \"\"}}, \"type\": \"scatterpolar\"}], \"scatterpolargl\": [{\"marker\": {\"colorbar\": {\"outlinewidth\": 0, \"ticks\": \"\"}}, \"type\": \"scatterpolargl\"}], \"scatterternary\": [{\"marker\": {\"colorbar\": {\"outlinewidth\": 0, \"ticks\": \"\"}}, \"type\": \"scatterternary\"}], \"surface\": [{\"colorbar\": {\"outlinewidth\": 0, \"ticks\": \"\"}, \"colorscale\": [[0.0, \"#0d0887\"], [0.1111111111111111, \"#46039f\"], [0.2222222222222222, \"#7201a8\"], [0.3333333333333333, \"#9c179e\"], [0.4444444444444444, \"#bd3786\"], [0.5555555555555556, \"#d8576b\"], [0.6666666666666666, \"#ed7953\"], [0.7777777777777778, \"#fb9f3a\"], [0.8888888888888888, \"#fdca26\"], [1.0, \"#f0f921\"]], \"type\": \"surface\"}], \"table\": [{\"cells\": {\"fill\": {\"color\": \"#506784\"}, \"line\": {\"color\": \"rgb(17,17,17)\"}}, \"header\": {\"fill\": {\"color\": \"#2a3f5f\"}, \"line\": {\"color\": \"rgb(17,17,17)\"}}, \"type\": \"table\"}]}, \"layout\": {\"annotationdefaults\": {\"arrowcolor\": \"#f2f5fa\", \"arrowhead\": 0, \"arrowwidth\": 1}, \"autotypenumbers\": \"strict\", \"coloraxis\": {\"colorbar\": {\"outlinewidth\": 0, \"ticks\": \"\"}}, \"colorscale\": {\"diverging\": [[0, \"#8e0152\"], [0.1, \"#c51b7d\"], [0.2, \"#de77ae\"], [0.3, \"#f1b6da\"], [0.4, \"#fde0ef\"], [0.5, \"#f7f7f7\"], [0.6, \"#e6f5d0\"], [0.7, \"#b8e186\"], [0.8, \"#7fbc41\"], [0.9, \"#4d9221\"], [1, \"#276419\"]], \"sequential\": [[0.0, \"#0d0887\"], [0.1111111111111111, \"#46039f\"], [0.2222222222222222, \"#7201a8\"], [0.3333333333333333, \"#9c179e\"], [0.4444444444444444, \"#bd3786\"], [0.5555555555555556, \"#d8576b\"], [0.6666666666666666, \"#ed7953\"], [0.7777777777777778, \"#fb9f3a\"], [0.8888888888888888, \"#fdca26\"], [1.0, \"#f0f921\"]], \"sequentialminus\": [[0.0, \"#0d0887\"], [0.1111111111111111, \"#46039f\"], [0.2222222222222222, \"#7201a8\"], [0.3333333333333333, \"#9c179e\"], [0.4444444444444444, \"#bd3786\"], [0.5555555555555556, \"#d8576b\"], [0.6666666666666666, \"#ed7953\"], [0.7777777777777778, \"#fb9f3a\"], [0.8888888888888888, \"#fdca26\"], [1.0, \"#f0f921\"]]}, \"colorway\": [\"#636efa\", \"#EF553B\", \"#00cc96\", \"#ab63fa\", \"#FFA15A\", \"#19d3f3\", \"#FF6692\", \"#B6E880\", \"#FF97FF\", \"#FECB52\"], \"font\": {\"color\": \"#f2f5fa\"}, \"geo\": {\"bgcolor\": \"rgb(17,17,17)\", \"lakecolor\": \"rgb(17,17,17)\", \"landcolor\": \"rgb(17,17,17)\", \"showlakes\": true, \"showland\": true, \"subunitcolor\": \"#506784\"}, \"hoverlabel\": {\"align\": \"left\"}, \"hovermode\": \"closest\", \"mapbox\": {\"style\": \"dark\"}, \"paper_bgcolor\": \"rgb(17,17,17)\", \"plot_bgcolor\": \"rgb(17,17,17)\", \"polar\": {\"angularaxis\": {\"gridcolor\": \"#506784\", \"linecolor\": \"#506784\", \"ticks\": \"\"}, \"bgcolor\": \"rgb(17,17,17)\", \"radialaxis\": {\"gridcolor\": \"#506784\", \"linecolor\": \"#506784\", \"ticks\": \"\"}}, \"scene\": {\"xaxis\": {\"backgroundcolor\": \"rgb(17,17,17)\", \"gridcolor\": \"#506784\", \"gridwidth\": 2, \"linecolor\": \"#506784\", \"showbackground\": true, \"ticks\": \"\", \"zerolinecolor\": \"#C8D4E3\"}, \"yaxis\": {\"backgroundcolor\": \"rgb(17,17,17)\", \"gridcolor\": \"#506784\", \"gridwidth\": 2, \"linecolor\": \"#506784\", \"showbackground\": true, \"ticks\": \"\", \"zerolinecolor\": \"#C8D4E3\"}, \"zaxis\": {\"backgroundcolor\": \"rgb(17,17,17)\", \"gridcolor\": \"#506784\", \"gridwidth\": 2, \"linecolor\": \"#506784\", \"showbackground\": true, \"ticks\": \"\", \"zerolinecolor\": \"#C8D4E3\"}}, \"shapedefaults\": {\"line\": {\"color\": \"#f2f5fa\"}}, \"sliderdefaults\": {\"bgcolor\": \"#C8D4E3\", \"bordercolor\": \"rgb(17,17,17)\", \"borderwidth\": 1, \"tickwidth\": 0}, \"ternary\": {\"aaxis\": {\"gridcolor\": \"#506784\", \"linecolor\": \"#506784\", \"ticks\": \"\"}, \"baxis\": {\"gridcolor\": \"#506784\", \"linecolor\": \"#506784\", \"ticks\": \"\"}, \"bgcolor\": \"rgb(17,17,17)\", \"caxis\": {\"gridcolor\": \"#506784\", \"linecolor\": \"#506784\", \"ticks\": \"\"}}, \"title\": {\"x\": 0.05}, \"updatemenudefaults\": {\"bgcolor\": \"#506784\", \"borderwidth\": 0}, \"xaxis\": {\"automargin\": true, \"gridcolor\": \"#283442\", \"linecolor\": \"#506784\", \"ticks\": \"\", \"title\": {\"standoff\": 15}, \"zerolinecolor\": \"#283442\", \"zerolinewidth\": 2}, \"yaxis\": {\"automargin\": true, \"gridcolor\": \"#283442\", \"linecolor\": \"#506784\", \"ticks\": \"\", \"title\": {\"standoff\": 15}, \"zerolinecolor\": \"#283442\", \"zerolinewidth\": 2}}}, \"title\": {\"text\": \"Arabica: Country of Origin\"}, \"xaxis\": {\"title\": {\"text\": \"Country of Origin\"}}, \"yaxis\": {\"title\": {\"text\": \"Counts\"}}},                        {\"responsive\": true}                    ).then(function(){\n",
       "                            \n",
       "var gd = document.getElementById('1edc4dfd-7e2a-437d-8fea-822c056a521e');\n",
       "var x = new MutationObserver(function (mutations, observer) {{\n",
       "        var display = window.getComputedStyle(gd).display;\n",
       "        if (!display || display === 'none') {{\n",
       "            console.log([gd, 'removed!']);\n",
       "            Plotly.purge(gd);\n",
       "            observer.disconnect();\n",
       "        }}\n",
       "}});\n",
       "\n",
       "// Listen for the removal of the full notebook cells\n",
       "var notebookContainer = gd.closest('#notebook-container');\n",
       "if (notebookContainer) {{\n",
       "    x.observe(notebookContainer, {childList: true});\n",
       "}}\n",
       "\n",
       "// Listen for the clearing of the current output cell\n",
       "var outputEl = gd.closest('.output');\n",
       "if (outputEl) {{\n",
       "    x.observe(outputEl, {childList: true});\n",
       "}}\n",
       "\n",
       "                        })                };                });            </script>        </div>"
      ]
     },
     "metadata": {},
     "output_type": "display_data"
    },
    {
     "data": {
      "application/vnd.plotly.v1+json": {
       "config": {
        "plotlyServerURL": "https://plot.ly"
       },
       "data": [
        {
         "marker": {
          "color": "white"
         },
         "type": "bar",
         "x": [
          "METAD PLC",
          null,
          "Yidnekachew Dabessa Coffee Plantation",
          "HVC",
          "Bazen Agricultural & Industrial Dev't Plc",
          "Diamond Enterprise Plc",
          "Fahem Coffee Plantation",
          "Alfredo De Jesús López Pérez",
          "Jorge Walter Restrepo",
          "Robert, Sharon, Arianna Wood",
          "María Leticia Diosa",
          "P.T. Toarco Jaya",
          "Green Gold Ethiopia | Phone: 0114342032",
          "Echo Coffee",
          "LevelUp",
          "Nicolás Rueda Urrego",
          "SEVERAL",
          "ROBERTO LICONA FRANCO",
          "Silvia Elena Higuita",
          "Ralph Junqueira",
          "Kabum trading company",
          "Reinerio Zepeda",
          "FANG,ZHENG-LUN 方政倫",
          "Homero Texeira de Macedo Junior",
          "Exclusive Coffees S.A.",
          "Haider Abamecha Abadiko",
          "Kangunu",
          "Kona Pacific Farmers Co-Op",
          "Contact name | ATO Teshome Belamo",
          "Hugo Sepúlveda Montoya",
          "ITDP",
          "Maria Rogeria Costa Pereira",
          "LIN YEN CHIEN 林言謙",
          "JUNGLE ESTATE",
          "Kaasay Farmer Group",
          "Kawacom",
          "Sidama Coffee Farmers Coop. Union",
          "Hula Daddy Kona Coffee",
          "MARGARITA AVILA DE NUYENS",
          "Kawacom (U)Ltd",
          "Plinio Ruiz",
          "Ibrahim Hussien Specialty Coffee Producer and Exporter",
          "SERTRASA",
          "WILLIAM ESTUARDO MARTINEZ PACHECO",
          "seid damtew coffee export and plantation",
          "Colbran CoffeeLands, Ltd.",
          "Aida Batlle",
          "Oscar Roberto Murgas Linares",
          "Lamastus",
          "Assefa Belay Coffee Producer",
          "Kyagalanyi coffee Ltd",
          "ASOCIACION DE PERMACULTORES DE CUILCO (SANTOS LOPEZ MEJIA)",
          "Chesiyo Farmer group",
          "José Vagner Ribeiro Junqueira",
          "J. Hill y Cia SA de CV",
          "Pu'er City Longke Coffee Co.Ltd",
          "Arturo Aguirre",
          "Cafe Altura de San Ramon",
          "Kianjogu - Rutuma F.C.S. Ltd.",
          "Blend from various Producers",
          "Contact name | Egziabhez Mezgebe, GMT Industrial Plc",
          "Contact name | Hailu Gebre Hiwot",
          "varios",
          "Coop. Hoja Blanca - Fedecocagua",
          "SEID DAMTEW COFFEE PLANATION",
          "JOSE ALBEIRO GOMEZ / LUIS JABER REALPE",
          "BNT",
          "ORLANDO ORTIZ /WILSON ORTIZ/GILBERTO ACOSTA",
          "Kona Pacific Farmers Cooperative",
          "Exporter Name | Muluneh Kaka | Phone: 0114390290",
          "Kyagalanyi Coffee Ltd",
          "La Plata",
          "Manuel Montero",
          "Varios productores minifundistas",
          "Idalina M. De Andrade Ferreira",
          "Finca Kassandra",
          "Federico Weller",
          "SU CHUEN SHIAN 蘇春賢",
          "Hasambo AMCOS",
          "LA PLATA",
          "ARTEMIO ZAPATA TEJEDA",
          "Glaucio Carneiro Pinto",
          "Ricardo Luiz Ferreira",
          "Wang Chao Yung 王超永",
          "Sipi organic coffee project",
          "Matsuzawa Coffee",
          "KARATINA",
          "Omar Acosta",
          "Several producers",
          "Juan Alvaro Munguia",
          "J.J. Borja Nathan",
          "PT. Shriya Artha Nusantara",
          "Taijiro TOKUDA",
          "Johanna",
          "JUAN BOCK",
          "Coopetarrazú",
          "Moplaco",
          "Maria Elena Castro",
          "CORICAFE BLEND",
          "Gu yong long 古永龍",
          "Sasini",
          "AGROPECUARIA QUIAGRAL",
          "JORGE TORRES BELTRAN, VICENTE HERNANDEZ OCHOA, IGNACIO TORRES",
          "CECANOR",
          "BLEND",
          "ROBERTO MONTERROSO",
          "AMILCAR LAPOLA",
          "changeru wet mill",
          "Geraldo Paixão",
          "Various",
          "Kawacom Uganda Ltd",
          "Menglian Ban’an Coffee Processing Factory",
          "PUER JIANGCHENG FUWANG COFFEE BIOTECHNOLOGY CO., LTD",
          "LUIS RODRIGUEZ",
          "MARIA IMELDA USCANGA MARTINEZ",
          "SANTIAGO JOSE ARGUELLO CAMPOS",
          "AGRICOLA NUEVA GRANADA, S.A",
          "mmm",
          "Beneficio San Diego",
          "Surbakti",
          "FRANKLIN DUSSAN",
          "Kao Ming Lee",
          "MARIA AMALIA GUADALUPE TORIELLO ELORZA",
          "mutheka",
          "Nahun Maldonado",
          "FRANKLIN DUSSAN / ANDRES RODRIGUEZ/HIPOLITO TORRES",
          "VICTOR HUGO MELCHOR CORDOVA",
          "Lucia Maria da Silva Dias",
          "Antônio Pelucio",
          "Oromia Coffee Farmers Cooperative Union",
          "Miguel Hernandez",
          "黃美桃 Huang Mei Tao",
          "JOSE ALBEIRO GOMEZ",
          "FINCA MEDINA",
          "HORACIO CIFUENTES MARTINEZ",
          "Menglian County Nayun Town Mangzhang Coffee Farm",
          "FRANKLIN DUSSAN/ANDRES RODRIGUEZ/HIPOLITO TORRES",
          "Tembo Coffee Company Ltd",
          "Taylor Winch (T) ltd",
          "JESUS SALAZAR VELASCO",
          "MANUEL HERRERA JUAREZ",
          "ERNST POHLENZ AGUILAR",
          "JORGE LEAL",
          "Los Angeles Micro-Mill (Ricardo Calderón)",
          "DARY COLMAN ALVARADO VILLATORO",
          "FERNANDO FAHSEN",
          "CHAPULTEPEC",
          "COOPERATIVA EL GORRION RL",
          "MAURO GALHERI",
          "Martin Gutierrez",
          "Tariku Oljira",
          "Selian Coffee Estate",
          "Café do Paraíso",
          "AGRICOLA MONTE VERDE, S.A.",
          "ANTON GAYO",
          "FRANKLIN DUSSAN / HIPOLITO TORRES",
          "CHANG YU LIANG 張玉良",
          "Asociacion de Productores de Cafe de la Region Ixil",
          "ANDRES MARTINEZ LEON",
          "Kerchanshe Trading P.L.C",
          "OTONIEL VILLATORO LOPEZ",
          "Ipanema Coffees",
          "Blend of various producers",
          "Doi Tung Development Project",
          "-",
          "Ipanema Agricola S.A",
          "CAFES TOMARI SA DE CV",
          "Phatang, Saveg",
          "Ipanema Agricola",
          "YANG TENG KO楊登嵙",
          "張瑞宏",
          "OSCAR ORTEGA CARBALLO",
          "ARTURO LIEVANO MORENO",
          "coop",
          "Jose Albeiro gomez",
          "鄭虞坪",
          "Ipanema Agrícola SA",
          "ZENG JIAN NAN 曾建男",
          "Sumeya Yasin",
          "VARIOS",
          "FILEMON MENDOZA CAMPOS",
          "Nazareth Dias Pereira",
          "Doi Chaang Community Enterprise Piko",
          "KAROGOTO",
          "曾如楓 & 郭俊宏 (Tseng Ju Feng & Kuo Jun Hong)",
          "Pu’er Specialty Coffee Cupping Center",
          "Nile Highland Arabica Coffee Farmers",
          "Hacienda Alto Grande",
          "MARTINEZ MAGDALENA, AGAPITA",
          "Several producres",
          "Carlos Peneche/Jesus Peneche/Flor Chacón",
          "NCHOROIBORO / KIRIANI FACTORY",
          "RONALDO LACAYO CARDENAL",
          "Agrotello Coop",
          "FRANCISCO LUIS MARTINEZ LOPEZ",
          "Huila",
          "Finca Quequesquez",
          "JUAN LUIS ORTEGA CARBALLO",
          "PT. Perkebunan Nusantara XII",
          "SIEMBRAS VISION, S.A",
          "JUAN RAMIREZ MORALES",
          "Menglian Mang Pan Professional Cooperative",
          "Exportadora Café California",
          "Bulamburi coffee farmers association",
          "Gu zhi min 古智閔",
          "JULIAN ALBERTO URRUTIA MOYA",
          "ORLANDO ORTIZ/WILSON SANCHEZ/GILBERTO ACOSTA",
          "Alvaro Resende Aguiar",
          "Orlando Moreno / Willson Sanchez",
          "黑咖啡道王憲備0912326001        ",
          "Mecias Urbano / Yaniver Alvarez",
          "Mr & Mrs Damari Absalome",
          "Yusrin",
          "Debesa",
          "UNEX",
          "Reynerio Zepeda",
          "ARMANDO GUTIERREZ GUZMAN",
          "GABRIEL BERNARD RIVAS ROSS",
          "RNP SANTO TOMAS PACHUJ / KANEMATSU CORPORATION",
          "ConquistaMorito",
          "PT. PERKEBUNAN NUSANTARA XII",
          "FRANKLIN DUSSAN / HIPOLOTO TORRES",
          "黃素貞0939227229",
          "Bulago & Buginyanya",
          "Ibero El Salvador, S.A. de C.V.",
          "GABRIEL CARVALHO DIAS",
          "Ngila Estate Ltd",
          "SIEMBRAS VISIÓN, S.A.",
          "Exportadora de cafe condor",
          "Productores de Cafe de El Cuarenteno, S. de P.R. de R.L",
          "various",
          "ECC",
          "Mondul Coffee Estate",
          "JOSÉ LUIS ANDRADE SANDARA",
          "COOPCAB",
          "ORLANDO ORTIZ / HIPOLITO TORRES",
          "condor",
          "BALBINO RAMIREZ FLORES",
          "Coopellanobonito",
          "PABLO CHUY",
          "Kawacom Uganda LTD",
          "Rafael Arroyo Zoto",
          "蘇詠晴",
          "VRIOS PRODUCTORES",
          "ERNESTO RODRIGUEZ LUNA",
          "MODESTO LANDEROS FLORES",
          "Eliane de Andrade Cyrino Noqueira",
          "Exportadora de Café Cóndor S.A",
          "AGROINDUSTRIAS CAFETALERAS",
          "Mamsera",
          "Yeh, Li Chuan",
          "JOSE OMAR ACOSTA",
          "Mojiang Jinggong Estate Speciality Development Co.Ltd",
          "Yunnan Success Trade Co.Ltd",
          "Ecom Agroindustrial Corp. Ltd.",
          "PAPATURRO",
          "Tutunze Kahawa Ltd",
          "Kabum Trading Company",
          "unkown",
          "Nelson Melgar Melgar",
          "AGRICOLA NUEVA GRANADA, S.A.",
          "MARGARITO ROBLERO VAZQUEZ",
          "AMADOR HERNANDEZ DIONICIO",
          "TREJO VELASCO, ROMAN",
          "FERNANDO MENDOZA APARICIO",
          "OCTAVIO MOGUEL FARRERA",
          "Giovane Senna Bonacorssi",
          "Maria Aparecida Ferreira Azevedo",
          "Conquista / Morito",
          "Andrea Galvão Noqueira",
          "Mario Dornelles Alvarenga",
          "Several",
          "Tega and Tula Special Coffee Farm",
          "Tseng ju feng / Kuo jun hong 曾如楓 / 郭俊宏",
          "Fang zheng lun 方政倫",
          "MARIA LUISA DEL CARMEN ROJAS NARVAEZ",
          "Grupo Monserrate, La Plata",
          "PT. MENACOM",
          "Xavier Baluku",
          "Emmanuel Munaaba",
          "Yeh, Li Chuan.",
          "OVIDIO CARDONA",
          "Agricola Nueva Granada, S. A.",
          "João Alves Toledo",
          "雅慕伊",
          "Kucofa farmers group",
          "GRUPO MEDINA",
          "NAZARETH DIAS PEREIRA",
          "COFFEE COMPANY / CAFECOL",
          "ORLANDO ORTOZ / HIPOLITO TORRES",
          "GONZALO RIVERO PUERTO",
          "SANTIAGO SOLIS AYERDI",
          "FRANCO COLORADO DOMINGUEZ",
          "Exportadora Condor",
          "NUEVOS MERCADOS, S.A.",
          "Juan AugustinPalacio",
          "Balcanes Coffee Estates, S.A. de C.V.",
          "許文郎",
          "Hineleban Foundation",
          "Ephemera Traders",
          "Catalina Rodriguez Mayorga",
          "FIECH",
          "GERSON NAIMEG",
          "Nyapea coffee farmers association",
          "SIEMBRAS VISION, S.A.",
          "OTTONIEL VILLATORO LOPEZ",
          "MARIA GUADALUPE GOMEZ ANZO",
          "Apollo Co., Ltd.",
          "WERCLEIN HERNANDEZ SERRANO ID.-1506728641",
          "KEREMARA LIMITED",
          "El Barbaro, S.A. de C.V.",
          "Bufcoffee_Gicumbi",
          "Antonio Batista Francisquine",
          "Mercedes Narvaez",
          "PT. Olam Indonesia",
          "Mrs. Galeano",
          "BURKA COFFEE ESTATE",
          "ARMANDO LUIS POHLENZ MARTINEZ",
          "OLIVIA HERNANDEZ VIRUES",
          "La Majada Cooperative",
          "PLANTACIONES AGROPECUARIAS S.A",
          "PABLO ARTURO CHUY FLORES",
          "ANGEL DE LEON",
          "OTTO BECKER",
          "JESUS RAMIREZ",
          "vary farm",
          "林俊吉( Lin, Chun-Chi)",
          "Soc. Coop. de Caf. de Ciudad Barrios de R.L.",
          "Puwen Lvyou Coffee Co.,Ltd",
          "Pu'er Lingdu Yunlin Coffee Co.LTD",
          "Mzuzu Coffee Planters Coop Union",
          "several",
          "CARLOS O. VELAZCO LOPEZ",
          "FRANCISCO R. DE LA VEQUIA BERNARDI",
          "ROMULO BELLO FLORES",
          "Supply Chain ECOM CCA S.A.",
          "Price Peterson",
          "Paksong,Laos",
          "MANOEL CARDOSO AND GALILEO CARDOSO",
          "Nitin Coffee Estate",
          "林道明",
          "AVELINO CHAVEZ REYNA",
          "Xu ding ye 許定燁",
          "Koju Matsuzawa",
          "AMIN JAVIER MOISES CEJA",
          "MARIA DE LOURDES ANCIRA ELIZONDO",
          "Mariana Cabrera Pantoja; I.D.: 27 423 625",
          "林文弘 Lin Wen Hong",
          "陳勝樂0912326001",
          "SMALL HOLDERS FARMER",
          "Coffeas Co., Ltd.",
          "Huatusco",
          "GUILLERMO ROJAS SALDAÑA",
          "FEDERICO ENCISO MICHEL; LEODAN ENCISO FIGUEROA; JAIME LOPEZ LOPEZ",
          "Mario Garcia Reis Neto",
          "vary",
          "Shah Plantations",
          "Amkeni Gourmet Coffee Group",
          "Santiago & Rosaura Arguello Campos",
          "MARGARITA DE NUYENS",
          "VELASCO SAN AGUSTIN, NAZARIO",
          "ENRIQUE MITRE LOPEZ",
          "SUSANA LETICIA LOPEZ AGUILAR",
          "VARIOUS",
          "Danilo Carrillo",
          "PLANTACIONES AGROPECUARIAS, S.A.",
          "Menglian Gao Sanlin Coffee Factory",
          "GLADNESS OBED PALLANGYO",
          "Betina Vilela Reis",
          "EMPERATRIZ GARCIA MUÑOZ",
          "VICTOR MANUEL LOPEZ VAZQUEZ",
          "GIBRAN LEONARDO CERVANTES COVARRUBIAS",
          "DARIO FRANCISCO GALEANA SOLIS",
          "JOSE DANIEL COBILT CASTRO",
          "ALVARO QUIROS PEREZ, MIGUEL QUIROZ PEREZ",
          "OLIVIA HERNANDEZ VIRVES",
          "ROBIN CLEAVER",
          "JAIME PULIDO / ALBINO MAHECHA / FREDDY MENDEZ",
          "Glycia Maria",
          "Tulio Taft Bovaretto",
          "Yun Lan Coffee Co. Ltd",
          "AMANCIO DEL VALLE CARRILLO",
          "Zhang shui sheng 張水勝",
          "Lin yu ding 林玉定",
          "AGROINDUSTRIAS UNIDAS DE MEXICO SA DE CV",
          "CAFE MOLINO MONTERROSO P,J. ROBERTO",
          "SALAZAR HERNANDEZ, ROBERTO",
          "José Malagutti",
          "MARIA LUISA DELCARMEN ROJAS NARVAEZ",
          "José Alberto dos Santos",
          "JAIME PULIDO / ERMILSON RAMOS",
          "NAGIPE VIANA KLEM",
          "林玲美0918232039        ",
          "Tropical Farm Management El Salvador, S.A. de C.V.",
          "Mzuzu Coffee Coop Union",
          "Lin yu tang 林玉堂",
          "MARIA DEL ROSARIO IRAIS VALDIVIA ORTIZ",
          "FELIX DE LA CRUZ CASIMIRO",
          "SERGIO DE LA VEQUIA BERNARDI",
          "COOP",
          "Carmem Lucia Chaves de Brito",
          "MARCIO ALBERTO RIVERA CASTELLON",
          "Langiro farm group",
          "Union Ramal Santa Cruz",
          "Guo Zhang Sheng 郭章盛",
          "Jufeng-Tseng 曾如楓",
          "AVILA MARTINEZ ADOLFO",
          "SALVADOR CARO CARRION",
          "OSCAR TORRES OCHOCA, GENARO MATA CAMBEROS, MANUEL DUARTE MUNGUIA",
          "Various Farms",
          "JOSE FRANCISCO GONZALEZ",
          "AMPCG",
          "Ngorogoro Convenant Estate",
          "Cafetalera Aquiares",
          "ISMAM SAN ISIDRO LABRADOR S. DE S.S.",
          "ROSA AURORA FALCON FERNANDEZ",
          "Apollo Co., LTd.",
          "RAMIRO DE LA VEQUIA BERNARDI",
          "Carlos Pechene / Jesús Pechene / Flor Chacón",
          "Santos Fonseca",
          "Mr & Mrs Didas Mallya",
          "HanYong Choi",
          "Finca Estate",
          "Chen Jin Lin 陳金璘",
          "BSR",
          "Lin Huang, A-Mien 黃阿綿",
          "JORGE OCTAVIO ESCAMILLA PRADO",
          "Vander Bonaccorsi",
          "José Hiroiti",
          "PAUL STAUDER",
          "Maria da Gloria Junqueira",
          "Conquista/Morito",
          "AGRICOLA EL PILAR, S.A.",
          "Múcio Cardoso",
          "Comercial Exportadora, S.A. de C.V.",
          "Mcomafa",
          "Chen gui jiao 陳桂嬌",
          "VARIOS PRODUCTORES",
          "PONCE RUBIO, VENANCIO",
          "FRANCISCO SAENZ, FERNANDO",
          "JUAN HERMILIO SAMPIERI CARCAMO",
          "Fioravante Malagutti",
          "Helena Pingnatti Ricci",
          "MUDAR",
          "U Mg Mg",
          "MARTINIANO A. MORENO ALVARADO",
          "LIN SIN JI 林信吉",
          "Tomás Sosa, Juan Damaso",
          "various small producers",
          "MARIA MAGDALENA LUETHJE Y GRIS",
          "JORGE FRANCISCO MARTINEZ HACHITY",
          "Marilsa de Fatima Peternela",
          "Richard Yeh",
          "PEREZ LEMUS, FELIX",
          "SERGIO LANDA ALARCON",
          "CENEN TORRES CORTES, AVELINO TORES CORTES, JUAN VENTURA GUZMAN",
          "GRACIELA AGUILAR PERALTA",
          "Ngima Amcos",
          "Rolando Lacayo Cardenal",
          "DAE Ltd",
          "Zhang ming fu 張明福",
          "Wu cai jin 吳蔡錦",
          "UNION RAMAL SANTA CRUZ",
          "PRODUCTORA AGRICOLA Y GANADERA FINCA LA SUIZA",
          "MAYA BINIK",
          "CESAR SANTIZ LOPEZ",
          "ARMANDO GUTIEREZ GUZMÁN",
          "Cafes Finos de Corquin",
          "AGRICOLA EL PILAR, SA.",
          "蘇晉寬 Su Jin Kuan",
          "Acacia Hills Ltd",
          "CHIU WEI LUN 邱偉倫",
          "LUIS ANTONIO LOPEZ AGUILAR",
          "ENRIQUE EDUARDO LOPEZ AGUILAR",
          "CoopeTarrazu",
          "Teófilo Narváez :",
          "NAHUN MALDONADO",
          "AGRICOLA MONTE VERDE",
          "劉易騰",
          "Genius Coffee Estate",
          "Beneficio la Eva S.A.",
          "Mzuzu Coffee Coop Union        ",
          "HUANG MEI TAO 黃美桃        ",
          "MARIA ROGERIA COSTA PEREIRA",
          "Mixed",
          "Xu yuan zhang 徐源漳",
          "JORGE HERNANDEZ MONTEJO",
          "ZENOBIO MARTINEZ CANO",
          "MANUEL DUARTE MUNGUIA",
          "TOMAS EDELMANN BLASS",
          "MARIA DE LA PAZ AGUILAR GUILLEN",
          "CHIQUIMULJA / ALPHA CAFE / SENFRO",
          "Cafes tomari sa de cv",
          "INACIO URBAN",
          "Jose Omar Acosta",
          "謝文品",
          "PACHUJ, S. A.",
          "MARTINEZ BAUTISTA, NICOLAS",
          "MARIA DE LOUDES ANCIRA ELIZONDO",
          "Exportadora de cafe condor s.a",
          "Juan Hermilo Sampieri",
          "NELSON AZEVEDO FRANÇA",
          "COFFEE FOR PEACE,INC.",
          "HECTOR GABRIEL BARREDA NADER",
          "NAGIPE VIANA KLEM       ",
          "Hu Guei Jing 胡桂青",
          "Rolando Lacayo",
          "El Injerto S.A.",
          "Shangrilla Estate",
          "Liu ying wu 劉穎悟",
          "FRANCISCO J. CONTRERAS MARTINEZ DE ESCOBAR",
          "GONZALO CASTILLO",
          "Immaculata John",
          "R.W.J. Wallace Ltd",
          "JOSE RENATO BAIARDI",
          "Bruno de Andrade Frota",
          "Kerchanshe trading plc",
          "José Olavo Boechat",
          "ROLANDO LACAYO",
          "JuanAna Coffee Association",
          "MEDINA PEDRERO PRODUCTOS AGRÍCOLAS SA DE CV",
          "DIEGO MANUEL WOOLRICH RAMIREZ, ALFREDO FERNANDO WOOLRICH RAMIREZ",
          "ETMAR DIDIER ROBLERO LOPEZ",
          "GABRIEL DE CARVALHO DIAS",
          "HU KUEI CHING 胡桂青",
          "NELSON MELGAR & REGINO MELGAL",
          "Mlimani Ngarashi",
          "Zhou hong xiu 周紅秀",
          "MARTHA PALACIOS",
          "蕭閔家",
          "thiririka/Thima",
          "Jose Oscar Garza Sardaneta",
          "Min Hlaing",
          "Karatu Estate",
          "張文進",
          "Lu bi yun呂碧云",
          "Ding jin cai 丁金財",
          "Lu xing hui 呂星輝",
          "EDUARDO LUIS AUGUSTO VELAZQUEZ SOLIS",
          "DOMINGO MUGUIRA REVUELTA",
          "JUAN JOSE CASAS BLANCO",
          "MOISES GUILLERMO CARRERA MONTES",
          "DIOGO TUDELA NETO",
          "U Soe",
          "La Gran Manzana",
          "JOSE RIOS LARA, APOLONIA FRANCO TORRES, JENARO GONZALES MENDOZA",
          "COOPAIMAR Copperative Agro Industriel de Marmelade",
          "唐權盛",
          "PACHUJ, S.A",
          "MAX KEND TAKIUTI E OUTROS",
          "ADONIS JOSE ORTEZ BELTRAN",
          "Burka Coffee Estates",
          "BYRON ALONZO SOLIS",
          "王秋金",
          "EDWIN MUÑOZ",
          "Jorge Alfredo Pinto",
          "Case Noyale Ltd",
          "Lindolpho de Carvalho Dias",
          "Shwe Yin Mar",
          "IDMAR DE JESUS VELASQUEZ CALDERON",
          "HERAS HERNANDEZ GAUDENCIO",
          "曾林春英",
          "Luis, Rafael and Carmen Silva Hoff",
          "Alicia's Farm",
          "Huang san lang 黃三郎        ",
          "CARLOS ALBERTO GOMEZ",
          "SOGESTAL MUMIRWA",
          "Delfina Leon Shine",
          "Kongoni Estate",
          "Wu yi ting 吳伊婷",
          "AGRIPEC DE LA VEGA Y CIA.",
          "Luiz Augusto Pereira Moguilod",
          "Yamilet Lope",
          "Balbino Ramirez Flores",
          "Waylead Co, Ltd",
          "U Htun Htun",
          "GLORIA ANTONIETA ESCOBAR URRUTIA",
          "Weng hui ling 翁惠鈴",
          "HERNANDEZ PACHECO, TIMOTEO",
          "Sheldom La rue",
          "PABLO ENRIQUE MARTINEZ GAMA",
          "CIRILO JOSE JOSE",
          "MARCO VIRGILIO RAMIREZ TELIZ",
          "簡義榮",
          "Du zheng ru 杜政儒",
          "Zheng zhao ming 鄭昭明",
          "Wu kun shan 吳焜山",
          "ALBERTA TEODORO ANALCO",
          "FEDERICO PACHECO PEREZ",
          "Ngu Shwe Li Coffee Estate",
          "Zhang xian tong 張献銅",
          "SEMIRAMIS CASAS VELAZQUEZ",
          "DELMAR MORENO GUILLEN",
          "MARIA ELENA TERESA FERNANDEZ CEJA",
          "YARA / BENVAR",
          "Asociación Aldea Global Jinotega",
          "CIRO DE LA VEQUIA CESSA",
          "Wei-Chieh ( Jack ) Hua",
          "LIN REN FU 林人富",
          "Coopeagri",
          "COMONYAJ NOPTIC S DE SS",
          "MINERVA ZUÑIGA GARCIA",
          "ANGEL GONZALES",
          "Jorge Bolanos",
          "ALFREDO MOISES CEJA",
          "Sociedad Cooperativa de Cafetaleros de Ciudad Barrios de R.L.",
          "GOMEZ GRANILLO, VERONICO",
          "CECILIA AVILA CAMBEROS",
          "ROGELIO JACOME MORALES",
          "Cooperativa de Servicio Múltiples el Gorrión R.L",
          "張素真",
          "MARIA DE LA LUZ SANCHEZ TODD",
          "ADRIANA TORRES RICO QUEVEDO",
          "CNRA",
          "Spot",
          "ERIC JESUS CORDOBA ARROYO",
          "ANTONIO CORDOBA MURILLO",
          "Conquista/ Morito",
          "WU SHU YI 巫叔憶",
          "HILARIO GARCÍA SANDOVAL",
          "SOCIEADAD COOPERATIVA INDUSTRIAL CAFES YAJALON S. C. L.",
          "Various smallholders",
          "GUADALUPE HERAS HERNANDEZ",
          "JUANA RODRIGUEZ GUTIERREZ",
          "Varios",
          "Cooperativa Coaquil",
          "Frontera",
          "GONZALO DE AQUINO FLORES",
          "JUAN CRUZ RIAÑO",
          "JUAN AVENAMAR RODRIGUEZ FUNEZ",
          "LUISA ZUÑIGA GARCÍA",
          "Teófilo Narváez",
          "JOSE VAZQUEZ CANTON, JOSE ANTONIO JIMENEZ GONZALEZ, IRENEO GARCIA VALDIVIA",
          "DAMASO MARTINEZ PEREZ",
          "PEDRO HERRERA GUZMAN, AURELIO GABRIEL HERNANDEZ ,MARIA DE LOURDES DERISTAIN TRESS",
          "Yunnan Louis Herbs R&D Center",
          "JUAN GARCIA HERNANDEZ",
          "GUO JIUN HUNG 郭俊宏 & TSENG RU FENG 曾如楓",
          "EPIFANIO GARCIA DE MIGUEL",
          "J. CARMEN GUZMAN CONCEPCION, IGNACIO RAMIREZ BARAJAS, DIONICIO GARCIA RAMIREZ",
          "Various small producers",
          "REYNALDO OLIVERA RIOS",
          "FRANCISCO RUIZ NUÑEZ",
          "Manoel Cardoso and Galileo Cardoso",
          "LAMBERTO JOSÉ GARCÍA",
          "PABLO CERVANTES MORELOS        ",
          "vary farms",
          "CONSUELO GONZALEZ GOMEZ",
          "GreenHouse Coffee",
          "MARIO GARCÍA",
          "GUSTAVO ABARCA SOLIS",
          "Chen Shuei Lian 陳水連",
          "RUBRIA OCHOA BELLO",
          "MARGARITA DE NUYENS Y/O CARLOS NUYENS",
          "AQUILINO GARCÍA RIAÑO",
          "ALEJANDRO GARCÍA PALACIOS",
          "Sol y Cafe",
          "Aspinwall & CO. LTD",
          "CASTULO GUTIERREZ",
          "ISIDORA HERAS HERNANDEZ",
          "1",
          "GUILLERMO EDUARDO BOBADILLA MUGUIRA",
          "various smallholders",
          "SPOSEL S. DE S.S.",
          "SURAYA MAGDALENA LOTFE CALDERON",
          "MARTÍN JIMENEZ CASIANO, PAULINA CERQUEDA ALVAREZ, JULIO MARTINEZ TERAN",
          "MIGUEL LOPEZ TIRZO",
          "GEREMIAS RIAÑO LOPEZ",
          "CESMACH (VARIOS)",
          "MYRNA ROXANA GÁLVEZ GONZÁLEZ",
          "EUGENE HOLMAN PEW",
          "Asosyasyon Plantè Kafe Krètapen (APCAP) ;Asosyasyon plantè Kafe Basen (APKBA);Asosyasyon Plantè Kafe",
          "JOSÉ ARMANDO NORBERTO BORZANI LEMINI",
          "RICARDO AARON SAMPIERI MARINI",
          "JUAN CARLOS GARCÍA LOPEZ",
          "COEB Koperativ Ekselsyo Basen"
         ],
         "y": [
          30,
          22,
          17,
          12,
          12,
          11,
          10,
          9,
          9,
          9,
          8,
          8,
          7,
          7,
          6,
          6,
          6,
          6,
          6,
          5,
          5,
          5,
          5,
          5,
          5,
          5,
          5,
          5,
          5,
          5,
          4,
          4,
          4,
          4,
          4,
          4,
          4,
          4,
          4,
          4,
          4,
          4,
          4,
          4,
          4,
          3,
          3,
          3,
          3,
          3,
          3,
          3,
          3,
          3,
          3,
          3,
          3,
          3,
          3,
          3,
          3,
          3,
          3,
          3,
          3,
          3,
          3,
          3,
          3,
          3,
          3,
          3,
          3,
          3,
          3,
          3,
          2,
          2,
          2,
          2,
          2,
          2,
          2,
          2,
          2,
          2,
          2,
          2,
          2,
          2,
          2,
          2,
          2,
          2,
          2,
          2,
          2,
          2,
          2,
          2,
          2,
          2,
          2,
          2,
          2,
          2,
          2,
          2,
          2,
          2,
          2,
          2,
          2,
          2,
          2,
          2,
          2,
          2,
          2,
          2,
          2,
          2,
          2,
          2,
          2,
          2,
          2,
          2,
          2,
          2,
          2,
          2,
          2,
          2,
          2,
          2,
          2,
          2,
          2,
          2,
          2,
          2,
          2,
          2,
          2,
          2,
          2,
          2,
          2,
          1,
          1,
          1,
          1,
          1,
          1,
          1,
          1,
          1,
          1,
          1,
          1,
          1,
          1,
          1,
          1,
          1,
          1,
          1,
          1,
          1,
          1,
          1,
          1,
          1,
          1,
          1,
          1,
          1,
          1,
          1,
          1,
          1,
          1,
          1,
          1,
          1,
          1,
          1,
          1,
          1,
          1,
          1,
          1,
          1,
          1,
          1,
          1,
          1,
          1,
          1,
          1,
          1,
          1,
          1,
          1,
          1,
          1,
          1,
          1,
          1,
          1,
          1,
          1,
          1,
          1,
          1,
          1,
          1,
          1,
          1,
          1,
          1,
          1,
          1,
          1,
          1,
          1,
          1,
          1,
          1,
          1,
          1,
          1,
          1,
          1,
          1,
          1,
          1,
          1,
          1,
          1,
          1,
          1,
          1,
          1,
          1,
          1,
          1,
          1,
          1,
          1,
          1,
          1,
          1,
          1,
          1,
          1,
          1,
          1,
          1,
          1,
          1,
          1,
          1,
          1,
          1,
          1,
          1,
          1,
          1,
          1,
          1,
          1,
          1,
          1,
          1,
          1,
          1,
          1,
          1,
          1,
          1,
          1,
          1,
          1,
          1,
          1,
          1,
          1,
          1,
          1,
          1,
          1,
          1,
          1,
          1,
          1,
          1,
          1,
          1,
          1,
          1,
          1,
          1,
          1,
          1,
          1,
          1,
          1,
          1,
          1,
          1,
          1,
          1,
          1,
          1,
          1,
          1,
          1,
          1,
          1,
          1,
          1,
          1,
          1,
          1,
          1,
          1,
          1,
          1,
          1,
          1,
          1,
          1,
          1,
          1,
          1,
          1,
          1,
          1,
          1,
          1,
          1,
          1,
          1,
          1,
          1,
          1,
          1,
          1,
          1,
          1,
          1,
          1,
          1,
          1,
          1,
          1,
          1,
          1,
          1,
          1,
          1,
          1,
          1,
          1,
          1,
          1,
          1,
          1,
          1,
          1,
          1,
          1,
          1,
          1,
          1,
          1,
          1,
          1,
          1,
          1,
          1,
          1,
          1,
          1,
          1,
          1,
          1,
          1,
          1,
          1,
          1,
          1,
          1,
          1,
          1,
          1,
          1,
          1,
          1,
          1,
          1,
          1,
          1,
          1,
          1,
          1,
          1,
          1,
          1,
          1,
          1,
          1,
          1,
          1,
          1,
          1,
          1,
          1,
          1,
          1,
          1,
          1,
          1,
          1,
          1,
          1,
          1,
          1,
          1,
          1,
          1,
          1,
          1,
          1,
          1,
          1,
          1,
          1,
          1,
          1,
          1,
          1,
          1,
          1,
          1,
          1,
          1,
          1,
          1,
          1,
          1,
          1,
          1,
          1,
          1,
          1,
          1,
          1,
          1,
          1,
          1,
          1,
          1,
          1,
          1,
          1,
          1,
          1,
          1,
          1,
          1,
          1,
          1,
          1,
          1,
          1,
          1,
          1,
          1,
          1,
          1,
          1,
          1,
          1,
          1,
          1,
          1,
          1,
          1,
          1,
          1,
          1,
          1,
          1,
          1,
          1,
          1,
          1,
          1,
          1,
          1,
          1,
          1,
          1,
          1,
          1,
          1,
          1,
          1,
          1,
          1,
          1,
          1,
          1,
          1,
          1,
          1,
          1,
          1,
          1,
          1,
          1,
          1,
          1,
          1,
          1,
          1,
          1,
          1,
          1,
          1,
          1,
          1,
          1,
          1,
          1,
          1,
          1,
          1,
          1,
          1,
          1,
          1,
          1,
          1,
          1,
          1,
          1,
          1,
          1,
          1,
          1,
          1,
          1,
          1,
          1,
          1,
          1,
          1,
          1,
          1,
          1,
          1,
          1,
          1,
          1,
          1,
          1,
          1,
          1,
          1,
          1,
          1,
          1,
          1,
          1,
          1,
          1,
          1,
          1,
          1,
          1,
          1,
          1,
          1,
          1,
          1,
          1,
          1,
          1,
          1,
          1,
          1,
          1,
          1,
          1,
          1,
          1,
          1,
          1,
          1,
          1,
          1,
          1,
          1,
          1,
          1,
          1,
          1,
          1,
          1,
          1,
          1,
          1,
          1,
          1,
          1,
          1,
          1,
          1,
          1,
          1,
          1,
          1,
          1,
          1,
          1,
          1,
          1,
          1,
          1,
          1,
          1,
          1,
          1,
          1,
          1,
          1,
          1,
          1,
          1,
          1,
          1,
          1,
          1,
          1,
          1,
          1,
          1,
          1,
          1,
          1,
          1,
          1,
          1,
          1,
          1,
          1,
          1,
          1,
          1,
          1,
          1,
          1,
          1,
          1,
          1,
          1,
          1,
          1,
          1,
          1,
          1
         ]
        }
       ],
       "layout": {
        "template": {
         "data": {
          "bar": [
           {
            "error_x": {
             "color": "#f2f5fa"
            },
            "error_y": {
             "color": "#f2f5fa"
            },
            "marker": {
             "line": {
              "color": "rgb(17,17,17)",
              "width": 0.5
             }
            },
            "type": "bar"
           }
          ],
          "barpolar": [
           {
            "marker": {
             "line": {
              "color": "rgb(17,17,17)",
              "width": 0.5
             }
            },
            "type": "barpolar"
           }
          ],
          "carpet": [
           {
            "aaxis": {
             "endlinecolor": "#A2B1C6",
             "gridcolor": "#506784",
             "linecolor": "#506784",
             "minorgridcolor": "#506784",
             "startlinecolor": "#A2B1C6"
            },
            "baxis": {
             "endlinecolor": "#A2B1C6",
             "gridcolor": "#506784",
             "linecolor": "#506784",
             "minorgridcolor": "#506784",
             "startlinecolor": "#A2B1C6"
            },
            "type": "carpet"
           }
          ],
          "choropleth": [
           {
            "colorbar": {
             "outlinewidth": 0,
             "ticks": ""
            },
            "type": "choropleth"
           }
          ],
          "contour": [
           {
            "colorbar": {
             "outlinewidth": 0,
             "ticks": ""
            },
            "colorscale": [
             [
              0,
              "#0d0887"
             ],
             [
              0.1111111111111111,
              "#46039f"
             ],
             [
              0.2222222222222222,
              "#7201a8"
             ],
             [
              0.3333333333333333,
              "#9c179e"
             ],
             [
              0.4444444444444444,
              "#bd3786"
             ],
             [
              0.5555555555555556,
              "#d8576b"
             ],
             [
              0.6666666666666666,
              "#ed7953"
             ],
             [
              0.7777777777777778,
              "#fb9f3a"
             ],
             [
              0.8888888888888888,
              "#fdca26"
             ],
             [
              1,
              "#f0f921"
             ]
            ],
            "type": "contour"
           }
          ],
          "contourcarpet": [
           {
            "colorbar": {
             "outlinewidth": 0,
             "ticks": ""
            },
            "type": "contourcarpet"
           }
          ],
          "heatmap": [
           {
            "colorbar": {
             "outlinewidth": 0,
             "ticks": ""
            },
            "colorscale": [
             [
              0,
              "#0d0887"
             ],
             [
              0.1111111111111111,
              "#46039f"
             ],
             [
              0.2222222222222222,
              "#7201a8"
             ],
             [
              0.3333333333333333,
              "#9c179e"
             ],
             [
              0.4444444444444444,
              "#bd3786"
             ],
             [
              0.5555555555555556,
              "#d8576b"
             ],
             [
              0.6666666666666666,
              "#ed7953"
             ],
             [
              0.7777777777777778,
              "#fb9f3a"
             ],
             [
              0.8888888888888888,
              "#fdca26"
             ],
             [
              1,
              "#f0f921"
             ]
            ],
            "type": "heatmap"
           }
          ],
          "heatmapgl": [
           {
            "colorbar": {
             "outlinewidth": 0,
             "ticks": ""
            },
            "colorscale": [
             [
              0,
              "#0d0887"
             ],
             [
              0.1111111111111111,
              "#46039f"
             ],
             [
              0.2222222222222222,
              "#7201a8"
             ],
             [
              0.3333333333333333,
              "#9c179e"
             ],
             [
              0.4444444444444444,
              "#bd3786"
             ],
             [
              0.5555555555555556,
              "#d8576b"
             ],
             [
              0.6666666666666666,
              "#ed7953"
             ],
             [
              0.7777777777777778,
              "#fb9f3a"
             ],
             [
              0.8888888888888888,
              "#fdca26"
             ],
             [
              1,
              "#f0f921"
             ]
            ],
            "type": "heatmapgl"
           }
          ],
          "histogram": [
           {
            "marker": {
             "colorbar": {
              "outlinewidth": 0,
              "ticks": ""
             }
            },
            "type": "histogram"
           }
          ],
          "histogram2d": [
           {
            "colorbar": {
             "outlinewidth": 0,
             "ticks": ""
            },
            "colorscale": [
             [
              0,
              "#0d0887"
             ],
             [
              0.1111111111111111,
              "#46039f"
             ],
             [
              0.2222222222222222,
              "#7201a8"
             ],
             [
              0.3333333333333333,
              "#9c179e"
             ],
             [
              0.4444444444444444,
              "#bd3786"
             ],
             [
              0.5555555555555556,
              "#d8576b"
             ],
             [
              0.6666666666666666,
              "#ed7953"
             ],
             [
              0.7777777777777778,
              "#fb9f3a"
             ],
             [
              0.8888888888888888,
              "#fdca26"
             ],
             [
              1,
              "#f0f921"
             ]
            ],
            "type": "histogram2d"
           }
          ],
          "histogram2dcontour": [
           {
            "colorbar": {
             "outlinewidth": 0,
             "ticks": ""
            },
            "colorscale": [
             [
              0,
              "#0d0887"
             ],
             [
              0.1111111111111111,
              "#46039f"
             ],
             [
              0.2222222222222222,
              "#7201a8"
             ],
             [
              0.3333333333333333,
              "#9c179e"
             ],
             [
              0.4444444444444444,
              "#bd3786"
             ],
             [
              0.5555555555555556,
              "#d8576b"
             ],
             [
              0.6666666666666666,
              "#ed7953"
             ],
             [
              0.7777777777777778,
              "#fb9f3a"
             ],
             [
              0.8888888888888888,
              "#fdca26"
             ],
             [
              1,
              "#f0f921"
             ]
            ],
            "type": "histogram2dcontour"
           }
          ],
          "mesh3d": [
           {
            "colorbar": {
             "outlinewidth": 0,
             "ticks": ""
            },
            "type": "mesh3d"
           }
          ],
          "parcoords": [
           {
            "line": {
             "colorbar": {
              "outlinewidth": 0,
              "ticks": ""
             }
            },
            "type": "parcoords"
           }
          ],
          "pie": [
           {
            "automargin": true,
            "type": "pie"
           }
          ],
          "scatter": [
           {
            "marker": {
             "line": {
              "color": "#283442"
             }
            },
            "type": "scatter"
           }
          ],
          "scatter3d": [
           {
            "line": {
             "colorbar": {
              "outlinewidth": 0,
              "ticks": ""
             }
            },
            "marker": {
             "colorbar": {
              "outlinewidth": 0,
              "ticks": ""
             }
            },
            "type": "scatter3d"
           }
          ],
          "scattercarpet": [
           {
            "marker": {
             "colorbar": {
              "outlinewidth": 0,
              "ticks": ""
             }
            },
            "type": "scattercarpet"
           }
          ],
          "scattergeo": [
           {
            "marker": {
             "colorbar": {
              "outlinewidth": 0,
              "ticks": ""
             }
            },
            "type": "scattergeo"
           }
          ],
          "scattergl": [
           {
            "marker": {
             "line": {
              "color": "#283442"
             }
            },
            "type": "scattergl"
           }
          ],
          "scattermapbox": [
           {
            "marker": {
             "colorbar": {
              "outlinewidth": 0,
              "ticks": ""
             }
            },
            "type": "scattermapbox"
           }
          ],
          "scatterpolar": [
           {
            "marker": {
             "colorbar": {
              "outlinewidth": 0,
              "ticks": ""
             }
            },
            "type": "scatterpolar"
           }
          ],
          "scatterpolargl": [
           {
            "marker": {
             "colorbar": {
              "outlinewidth": 0,
              "ticks": ""
             }
            },
            "type": "scatterpolargl"
           }
          ],
          "scatterternary": [
           {
            "marker": {
             "colorbar": {
              "outlinewidth": 0,
              "ticks": ""
             }
            },
            "type": "scatterternary"
           }
          ],
          "surface": [
           {
            "colorbar": {
             "outlinewidth": 0,
             "ticks": ""
            },
            "colorscale": [
             [
              0,
              "#0d0887"
             ],
             [
              0.1111111111111111,
              "#46039f"
             ],
             [
              0.2222222222222222,
              "#7201a8"
             ],
             [
              0.3333333333333333,
              "#9c179e"
             ],
             [
              0.4444444444444444,
              "#bd3786"
             ],
             [
              0.5555555555555556,
              "#d8576b"
             ],
             [
              0.6666666666666666,
              "#ed7953"
             ],
             [
              0.7777777777777778,
              "#fb9f3a"
             ],
             [
              0.8888888888888888,
              "#fdca26"
             ],
             [
              1,
              "#f0f921"
             ]
            ],
            "type": "surface"
           }
          ],
          "table": [
           {
            "cells": {
             "fill": {
              "color": "#506784"
             },
             "line": {
              "color": "rgb(17,17,17)"
             }
            },
            "header": {
             "fill": {
              "color": "#2a3f5f"
             },
             "line": {
              "color": "rgb(17,17,17)"
             }
            },
            "type": "table"
           }
          ]
         },
         "layout": {
          "annotationdefaults": {
           "arrowcolor": "#f2f5fa",
           "arrowhead": 0,
           "arrowwidth": 1
          },
          "autotypenumbers": "strict",
          "coloraxis": {
           "colorbar": {
            "outlinewidth": 0,
            "ticks": ""
           }
          },
          "colorscale": {
           "diverging": [
            [
             0,
             "#8e0152"
            ],
            [
             0.1,
             "#c51b7d"
            ],
            [
             0.2,
             "#de77ae"
            ],
            [
             0.3,
             "#f1b6da"
            ],
            [
             0.4,
             "#fde0ef"
            ],
            [
             0.5,
             "#f7f7f7"
            ],
            [
             0.6,
             "#e6f5d0"
            ],
            [
             0.7,
             "#b8e186"
            ],
            [
             0.8,
             "#7fbc41"
            ],
            [
             0.9,
             "#4d9221"
            ],
            [
             1,
             "#276419"
            ]
           ],
           "sequential": [
            [
             0,
             "#0d0887"
            ],
            [
             0.1111111111111111,
             "#46039f"
            ],
            [
             0.2222222222222222,
             "#7201a8"
            ],
            [
             0.3333333333333333,
             "#9c179e"
            ],
            [
             0.4444444444444444,
             "#bd3786"
            ],
            [
             0.5555555555555556,
             "#d8576b"
            ],
            [
             0.6666666666666666,
             "#ed7953"
            ],
            [
             0.7777777777777778,
             "#fb9f3a"
            ],
            [
             0.8888888888888888,
             "#fdca26"
            ],
            [
             1,
             "#f0f921"
            ]
           ],
           "sequentialminus": [
            [
             0,
             "#0d0887"
            ],
            [
             0.1111111111111111,
             "#46039f"
            ],
            [
             0.2222222222222222,
             "#7201a8"
            ],
            [
             0.3333333333333333,
             "#9c179e"
            ],
            [
             0.4444444444444444,
             "#bd3786"
            ],
            [
             0.5555555555555556,
             "#d8576b"
            ],
            [
             0.6666666666666666,
             "#ed7953"
            ],
            [
             0.7777777777777778,
             "#fb9f3a"
            ],
            [
             0.8888888888888888,
             "#fdca26"
            ],
            [
             1,
             "#f0f921"
            ]
           ]
          },
          "colorway": [
           "#636efa",
           "#EF553B",
           "#00cc96",
           "#ab63fa",
           "#FFA15A",
           "#19d3f3",
           "#FF6692",
           "#B6E880",
           "#FF97FF",
           "#FECB52"
          ],
          "font": {
           "color": "#f2f5fa"
          },
          "geo": {
           "bgcolor": "rgb(17,17,17)",
           "lakecolor": "rgb(17,17,17)",
           "landcolor": "rgb(17,17,17)",
           "showlakes": true,
           "showland": true,
           "subunitcolor": "#506784"
          },
          "hoverlabel": {
           "align": "left"
          },
          "hovermode": "closest",
          "mapbox": {
           "style": "dark"
          },
          "paper_bgcolor": "rgb(17,17,17)",
          "plot_bgcolor": "rgb(17,17,17)",
          "polar": {
           "angularaxis": {
            "gridcolor": "#506784",
            "linecolor": "#506784",
            "ticks": ""
           },
           "bgcolor": "rgb(17,17,17)",
           "radialaxis": {
            "gridcolor": "#506784",
            "linecolor": "#506784",
            "ticks": ""
           }
          },
          "scene": {
           "xaxis": {
            "backgroundcolor": "rgb(17,17,17)",
            "gridcolor": "#506784",
            "gridwidth": 2,
            "linecolor": "#506784",
            "showbackground": true,
            "ticks": "",
            "zerolinecolor": "#C8D4E3"
           },
           "yaxis": {
            "backgroundcolor": "rgb(17,17,17)",
            "gridcolor": "#506784",
            "gridwidth": 2,
            "linecolor": "#506784",
            "showbackground": true,
            "ticks": "",
            "zerolinecolor": "#C8D4E3"
           },
           "zaxis": {
            "backgroundcolor": "rgb(17,17,17)",
            "gridcolor": "#506784",
            "gridwidth": 2,
            "linecolor": "#506784",
            "showbackground": true,
            "ticks": "",
            "zerolinecolor": "#C8D4E3"
           }
          },
          "shapedefaults": {
           "line": {
            "color": "#f2f5fa"
           }
          },
          "sliderdefaults": {
           "bgcolor": "#C8D4E3",
           "bordercolor": "rgb(17,17,17)",
           "borderwidth": 1,
           "tickwidth": 0
          },
          "ternary": {
           "aaxis": {
            "gridcolor": "#506784",
            "linecolor": "#506784",
            "ticks": ""
           },
           "baxis": {
            "gridcolor": "#506784",
            "linecolor": "#506784",
            "ticks": ""
           },
           "bgcolor": "rgb(17,17,17)",
           "caxis": {
            "gridcolor": "#506784",
            "linecolor": "#506784",
            "ticks": ""
           }
          },
          "title": {
           "x": 0.05
          },
          "updatemenudefaults": {
           "bgcolor": "#506784",
           "borderwidth": 0
          },
          "xaxis": {
           "automargin": true,
           "gridcolor": "#283442",
           "linecolor": "#506784",
           "ticks": "",
           "title": {
            "standoff": 15
           },
           "zerolinecolor": "#283442",
           "zerolinewidth": 2
          },
          "yaxis": {
           "automargin": true,
           "gridcolor": "#283442",
           "linecolor": "#506784",
           "ticks": "",
           "title": {
            "standoff": 15
           },
           "zerolinecolor": "#283442",
           "zerolinewidth": 2
          }
         }
        },
        "title": {
         "text": "Arabica: Producer"
        },
        "xaxis": {
         "title": {
          "text": "Producer"
         }
        },
        "yaxis": {
         "title": {
          "text": "Counts"
         }
        }
       }
      },
      "text/html": [
       "<div>                            <div id=\"b7a04a32-7a96-4311-ace1-1e4b0446750d\" class=\"plotly-graph-div\" style=\"height:525px; width:100%;\"></div>            <script type=\"text/javascript\">                require([\"plotly\"], function(Plotly) {                    window.PLOTLYENV=window.PLOTLYENV || {};                                    if (document.getElementById(\"b7a04a32-7a96-4311-ace1-1e4b0446750d\")) {                    Plotly.newPlot(                        \"b7a04a32-7a96-4311-ace1-1e4b0446750d\",                        [{\"marker\": {\"color\": \"white\"}, \"type\": \"bar\", \"x\": [\"METAD PLC\", null, \"Yidnekachew Dabessa Coffee Plantation\", \"HVC\", \"Bazen Agricultural & Industrial Dev't Plc\", \"Diamond Enterprise Plc\", \"Fahem Coffee Plantation\", \"Alfredo De Jes\\u00fas L\\u00f3pez P\\u00e9rez\", \"Jorge Walter Restrepo\", \"Robert, Sharon, Arianna Wood\", \"Mar\\u00eda Leticia Diosa\", \"P.T. Toarco Jaya\", \"Green Gold Ethiopia | Phone: 0114342032\", \"Echo Coffee\", \"LevelUp\", \"Nicol\\u00e1s Rueda Urrego\", \"SEVERAL\", \"ROBERTO LICONA FRANCO\", \"Silvia Elena Higuita\", \"Ralph Junqueira\", \"Kabum trading company\", \"Reinerio Zepeda\", \"FANG,ZHENG-LUN \\u65b9\\u653f\\u502b\", \"Homero Texeira de Macedo Junior\", \"Exclusive Coffees S.A.\", \"Haider Abamecha Abadiko\", \"Kangunu\", \"Kona Pacific Farmers Co-Op\", \"Contact name | ATO Teshome Belamo\", \"Hugo Sep\\u00falveda Montoya\", \"ITDP\", \"Maria Rogeria Costa Pereira\", \"LIN YEN CHIEN \\u6797\\u8a00\\u8b19\", \"JUNGLE ESTATE\", \"Kaasay Farmer Group\", \"Kawacom\", \"Sidama Coffee Farmers Coop. Union\", \"Hula Daddy Kona Coffee\", \"MARGARITA AVILA DE NUYENS\", \"Kawacom (U)Ltd\", \"Plinio Ruiz\", \"Ibrahim Hussien Specialty Coffee Producer and Exporter\", \"SERTRASA\", \"WILLIAM ESTUARDO MARTINEZ PACHECO\", \"seid damtew coffee export and plantation\", \"Colbran CoffeeLands, Ltd.\", \"Aida Batlle\", \"Oscar Roberto Murgas Linares\", \"Lamastus\", \"Assefa Belay Coffee Producer\", \"Kyagalanyi coffee Ltd\", \"ASOCIACION DE PERMACULTORES DE CUILCO (SANTOS LOPEZ MEJIA)\", \"Chesiyo Farmer group\", \"Jos\\u00e9 Vagner Ribeiro Junqueira\", \"J. Hill y Cia SA de CV\", \"Pu'er City Longke Coffee Co.Ltd\", \"Arturo Aguirre\", \"Cafe Altura de San Ramon\", \"Kianjogu - Rutuma F.C.S. Ltd.\", \"Blend from various Producers\", \"Contact name | Egziabhez Mezgebe, GMT Industrial Plc\", \"Contact name | Hailu Gebre Hiwot\", \"varios\", \"Coop. Hoja Blanca - Fedecocagua\", \"SEID DAMTEW COFFEE PLANATION\", \"JOSE ALBEIRO GOMEZ / LUIS JABER REALPE\", \"BNT\", \"ORLANDO ORTIZ /WILSON ORTIZ/GILBERTO ACOSTA\", \"Kona Pacific Farmers Cooperative\", \"Exporter Name | Muluneh Kaka | Phone: 0114390290\", \"Kyagalanyi Coffee Ltd\", \"La Plata\", \"Manuel Montero\", \"Varios productores minifundistas\", \"Idalina M. De Andrade Ferreira\", \"Finca Kassandra\", \"Federico Weller\", \"SU CHUEN SHIAN \\u8607\\u6625\\u8ce2\", \"Hasambo AMCOS\", \"LA PLATA\", \"ARTEMIO ZAPATA TEJEDA\", \"Glaucio Carneiro Pinto\", \"Ricardo Luiz Ferreira\", \"Wang Chao Yung \\u738b\\u8d85\\u6c38\", \"Sipi organic coffee project\", \"Matsuzawa Coffee\", \"KARATINA\", \"Omar Acosta\", \"Several producers\", \"Juan Alvaro Munguia\", \"J.J. Borja Nathan\", \"PT. Shriya Artha Nusantara\", \"Taijiro TOKUDA\", \"Johanna\", \"JUAN BOCK\", \"Coopetarraz\\u00fa\", \"Moplaco\", \"Maria Elena Castro\", \"CORICAFE BLEND\", \"Gu yong long \\u53e4\\u6c38\\u9f8d\", \"Sasini\", \"AGROPECUARIA QUIAGRAL\", \"JORGE TORRES BELTRAN, VICENTE HERNANDEZ OCHOA, IGNACIO TORRES\", \"CECANOR\", \"BLEND\", \"ROBERTO MONTERROSO\", \"AMILCAR LAPOLA\", \"changeru wet mill\", \"Geraldo Paix\\u00e3o\", \"Various\", \"Kawacom Uganda Ltd\", \"Menglian Ban\\u2019an Coffee Processing Factory\", \"PUER JIANGCHENG FUWANG COFFEE BIOTECHNOLOGY CO., LTD\", \"LUIS RODRIGUEZ\", \"MARIA IMELDA USCANGA MARTINEZ\", \"SANTIAGO JOSE ARGUELLO CAMPOS\", \"AGRICOLA NUEVA GRANADA, S.A\", \"mmm\", \"Beneficio San Diego\", \"Surbakti\", \"FRANKLIN DUSSAN\", \"Kao Ming Lee\", \"MARIA AMALIA GUADALUPE TORIELLO ELORZA\", \"mutheka\", \"Nahun Maldonado\", \"FRANKLIN DUSSAN / ANDRES RODRIGUEZ/HIPOLITO TORRES\", \"VICTOR HUGO MELCHOR CORDOVA\", \"Lucia Maria da Silva Dias\", \"Ant\\u00f4nio Pelucio\", \"Oromia Coffee Farmers Cooperative Union\", \"Miguel Hernandez\", \"\\u9ec3\\u7f8e\\u6843 Huang Mei Tao\", \"JOSE ALBEIRO GOMEZ\", \"FINCA MEDINA\", \"HORACIO CIFUENTES MARTINEZ\", \"Menglian County Nayun Town Mangzhang Coffee Farm\", \"FRANKLIN DUSSAN/ANDRES RODRIGUEZ/HIPOLITO TORRES\", \"Tembo Coffee Company Ltd\", \"Taylor Winch (T) ltd\", \"JESUS SALAZAR VELASCO\", \"MANUEL HERRERA JUAREZ\", \"ERNST POHLENZ AGUILAR\", \"JORGE LEAL\", \"Los Angeles Micro-Mill (Ricardo Calder\\u00f3n)\", \"DARY COLMAN ALVARADO VILLATORO\", \"FERNANDO FAHSEN\", \"CHAPULTEPEC\", \"COOPERATIVA EL GORRION RL\", \"MAURO GALHERI\", \"Martin Gutierrez\", \"Tariku Oljira\", \"Selian Coffee Estate\", \"Caf\\u00e9 do Para\\u00edso\", \"AGRICOLA MONTE VERDE, S.A.\", \"ANTON GAYO\", \"FRANKLIN DUSSAN / HIPOLITO TORRES\", \"CHANG YU LIANG \\u5f35\\u7389\\u826f\", \"Asociacion de Productores de Cafe de la Region Ixil\", \"ANDRES MARTINEZ LEON\", \"Kerchanshe Trading P.L.C\", \"OTONIEL VILLATORO LOPEZ\", \"Ipanema Coffees\", \"Blend of various producers\", \"Doi Tung Development Project\", \"-\", \"Ipanema Agricola S.A\", \"CAFES TOMARI SA DE CV\", \"Phatang, Saveg\", \"Ipanema Agricola\", \"YANG TENG KO\\u694a\\u767b\\u5d59\", \"\\u5f35\\u745e\\u5b8f\", \"OSCAR ORTEGA CARBALLO\", \"ARTURO LIEVANO MORENO\", \"coop\", \"Jose Albeiro gomez\", \"\\u912d\\u865e\\u576a\", \"Ipanema Agr\\u00edcola SA\", \"ZENG JIAN NAN \\u66fe\\u5efa\\u7537\", \"Sumeya Yasin\", \"VARIOS\", \"FILEMON MENDOZA CAMPOS\", \"Nazareth Dias Pereira\", \"Doi Chaang Community Enterprise Piko\", \"KAROGOTO\", \"\\u66fe\\u5982\\u6953 & \\u90ed\\u4fca\\u5b8f (Tseng Ju Feng & Kuo Jun Hong)\", \"Pu\\u2019er Specialty Coffee Cupping Center\", \"Nile Highland Arabica Coffee Farmers\", \"Hacienda Alto Grande\", \"MARTINEZ MAGDALENA, AGAPITA\", \"Several producres\", \"Carlos Peneche/Jesus Peneche/Flor Chac\\u00f3n\", \"NCHOROIBORO / KIRIANI FACTORY\", \"RONALDO LACAYO CARDENAL\", \"Agrotello Coop\", \"FRANCISCO LUIS MARTINEZ LOPEZ\", \"Huila\", \"Finca Quequesquez\", \"JUAN LUIS ORTEGA CARBALLO\", \"PT. Perkebunan Nusantara XII\", \"SIEMBRAS VISION, S.A\", \"JUAN RAMIREZ MORALES\", \"Menglian Mang Pan Professional Cooperative\", \"Exportadora Caf\\u00e9 California\", \"Bulamburi coffee farmers association\", \"Gu zhi min \\u53e4\\u667a\\u9594\", \"JULIAN ALBERTO URRUTIA MOYA\", \"ORLANDO ORTIZ/WILSON SANCHEZ/GILBERTO ACOSTA\", \"Alvaro Resende Aguiar\", \"Orlando Moreno / Willson Sanchez\", \"\\u9ed1\\u5496\\u5561\\u9053\\u738b\\u61b2\\u50990912326001        \", \"Mecias Urbano / Yaniver Alvarez\", \"Mr & Mrs Damari Absalome\", \"Yusrin\", \"Debesa\", \"UNEX\", \"Reynerio Zepeda\", \"ARMANDO GUTIERREZ GUZMAN\", \"GABRIEL BERNARD RIVAS ROSS\", \"RNP SANTO TOMAS PACHUJ / KANEMATSU CORPORATION\", \"ConquistaMorito\", \"PT. PERKEBUNAN NUSANTARA XII\", \"FRANKLIN DUSSAN / HIPOLOTO TORRES\", \"\\u9ec3\\u7d20\\u8c9e0939227229\", \"Bulago & Buginyanya\", \"Ibero El Salvador, S.A. de C.V.\", \"GABRIEL CARVALHO DIAS\", \"Ngila Estate Ltd\", \"SIEMBRAS VISI\\u00d3N, S.A.\", \"Exportadora de cafe condor\", \"Productores de Cafe de El Cuarenteno, S. de P.R. de R.L\", \"various\", \"ECC\", \"Mondul Coffee Estate\", \"JOS\\u00c9 LUIS ANDRADE SANDARA\", \"COOPCAB\", \"ORLANDO ORTIZ / HIPOLITO TORRES\", \"condor\", \"BALBINO RAMIREZ FLORES\", \"Coopellanobonito\", \"PABLO CHUY\", \"Kawacom Uganda LTD\", \"Rafael Arroyo Zoto\", \"\\u8607\\u8a60\\u6674\", \"VRIOS PRODUCTORES\", \"ERNESTO RODRIGUEZ LUNA\", \"MODESTO LANDEROS FLORES\", \"Eliane de Andrade Cyrino Noqueira\", \"Exportadora de Caf\\u00e9 C\\u00f3ndor S.A\", \"AGROINDUSTRIAS CAFETALERAS\", \"Mamsera\", \"Yeh, Li Chuan\", \"JOSE OMAR ACOSTA\", \"Mojiang Jinggong Estate Speciality Development Co.Ltd\", \"Yunnan Success Trade Co.Ltd\", \"Ecom Agroindustrial Corp. Ltd.\", \"PAPATURRO\", \"Tutunze Kahawa Ltd\", \"Kabum Trading Company\", \"unkown\", \"Nelson Melgar Melgar\", \"AGRICOLA NUEVA GRANADA, S.A.\", \"MARGARITO ROBLERO VAZQUEZ\", \"AMADOR HERNANDEZ DIONICIO\", \"TREJO VELASCO, ROMAN\", \"FERNANDO MENDOZA APARICIO\", \"OCTAVIO MOGUEL FARRERA\", \"Giovane Senna Bonacorssi\", \"Maria Aparecida Ferreira Azevedo\", \"Conquista / Morito\", \"Andrea Galv\\u00e3o Noqueira\", \"Mario Dornelles Alvarenga\", \"Several\", \"Tega and Tula Special Coffee Farm\", \"Tseng ju feng / Kuo jun hong \\u66fe\\u5982\\u6953 / \\u90ed\\u4fca\\u5b8f\", \"Fang zheng lun \\u65b9\\u653f\\u502b\", \"MARIA LUISA DEL CARMEN ROJAS NARVAEZ\", \"Grupo Monserrate, La Plata\", \"PT. MENACOM\", \"Xavier Baluku\", \"Emmanuel Munaaba\", \"Yeh, Li Chuan.\", \"OVIDIO CARDONA\", \"Agricola Nueva Granada, S. A.\", \"Jo\\u00e3o Alves Toledo\", \"\\u96c5\\u6155\\u4f0a\", \"Kucofa farmers group\", \"GRUPO MEDINA\", \"NAZARETH DIAS PEREIRA\", \"COFFEE COMPANY / CAFECOL\", \"ORLANDO ORTOZ / HIPOLITO TORRES\", \"GONZALO RIVERO PUERTO\", \"SANTIAGO SOLIS AYERDI\", \"FRANCO COLORADO DOMINGUEZ\", \"Exportadora Condor\", \"NUEVOS MERCADOS, S.A.\", \"Juan AugustinPalacio\", \"Balcanes Coffee Estates, S.A. de C.V.\", \"\\u8a31\\u6587\\u90ce\", \"Hineleban Foundation\", \"Ephemera Traders\", \"Catalina Rodriguez Mayorga\", \"FIECH\", \"GERSON NAIMEG\", \"Nyapea coffee farmers association\", \"SIEMBRAS VISION, S.A.\", \"OTTONIEL VILLATORO LOPEZ\", \"MARIA GUADALUPE GOMEZ ANZO\", \"Apollo Co., Ltd.\", \"WERCLEIN HERNANDEZ SERRANO ID.-1506728641\", \"KEREMARA LIMITED\", \"El Barbaro, S.A. de C.V.\", \"Bufcoffee_Gicumbi\", \"Antonio Batista Francisquine\", \"Mercedes Narvaez\", \"PT. Olam Indonesia\", \"Mrs. Galeano\", \"BURKA COFFEE ESTATE\", \"ARMANDO LUIS POHLENZ MARTINEZ\", \"OLIVIA HERNANDEZ VIRUES\", \"La Majada Cooperative\", \"PLANTACIONES AGROPECUARIAS S.A\", \"PABLO ARTURO CHUY FLORES\", \"ANGEL DE LEON\", \"OTTO BECKER\", \"JESUS RAMIREZ\", \"vary farm\", \"\\u6797\\u4fca\\u5409( Lin, Chun-Chi)\", \"Soc. Coop. de Caf. de Ciudad Barrios de R.L.\", \"Puwen Lvyou Coffee Co.,Ltd\", \"Pu'er Lingdu Yunlin Coffee Co.LTD\", \"Mzuzu Coffee Planters Coop Union\", \"several\", \"CARLOS O. VELAZCO LOPEZ\", \"FRANCISCO R. DE LA VEQUIA BERNARDI\", \"ROMULO BELLO FLORES\", \"Supply Chain ECOM CCA S.A.\", \"Price Peterson\", \"Paksong,Laos\", \"MANOEL CARDOSO AND GALILEO CARDOSO\", \"Nitin Coffee Estate\", \"\\u6797\\u9053\\u660e\", \"AVELINO CHAVEZ REYNA\", \"Xu ding ye \\u8a31\\u5b9a\\u71c1\", \"Koju Matsuzawa\", \"AMIN JAVIER MOISES CEJA\", \"MARIA DE LOURDES ANCIRA ELIZONDO\", \"Mariana Cabrera Pantoja; I.D.: 27 423 625\", \"\\u6797\\u6587\\u5f18 Lin Wen Hong\", \"\\u9673\\u52dd\\u6a020912326001\", \"SMALL HOLDERS FARMER\", \"Coffeas Co., Ltd.\", \"Huatusco\", \"GUILLERMO ROJAS SALDA\\u00d1A\", \"FEDERICO ENCISO MICHEL; LEODAN ENCISO FIGUEROA; JAIME LOPEZ LOPEZ\", \"Mario Garcia Reis Neto\", \"vary\", \"Shah Plantations\", \"Amkeni Gourmet Coffee Group\", \"Santiago & Rosaura Arguello Campos\", \"MARGARITA DE NUYENS\", \"VELASCO SAN AGUSTIN, NAZARIO\", \"ENRIQUE MITRE LOPEZ\", \"SUSANA LETICIA LOPEZ AGUILAR\", \"VARIOUS\", \"Danilo Carrillo\", \"PLANTACIONES AGROPECUARIAS, S.A.\", \"Menglian Gao Sanlin Coffee Factory\", \"GLADNESS OBED PALLANGYO\", \"Betina Vilela Reis\", \"EMPERATRIZ GARCIA MU\\u00d1OZ\", \"VICTOR MANUEL LOPEZ VAZQUEZ\", \"GIBRAN LEONARDO CERVANTES COVARRUBIAS\", \"DARIO FRANCISCO GALEANA SOLIS\", \"JOSE DANIEL COBILT CASTRO\", \"ALVARO QUIROS PEREZ, MIGUEL QUIROZ PEREZ\", \"OLIVIA HERNANDEZ VIRVES\", \"ROBIN CLEAVER\", \"JAIME PULIDO / ALBINO MAHECHA / FREDDY MENDEZ\", \"Glycia Maria\", \"Tulio Taft Bovaretto\", \"Yun Lan Coffee Co. Ltd\", \"AMANCIO DEL VALLE CARRILLO\", \"Zhang shui sheng \\u5f35\\u6c34\\u52dd\", \"Lin yu ding \\u6797\\u7389\\u5b9a\", \"AGROINDUSTRIAS UNIDAS DE MEXICO SA DE CV\", \"CAFE MOLINO MONTERROSO P,J. ROBERTO\", \"SALAZAR HERNANDEZ, ROBERTO\", \"Jos\\u00e9 Malagutti\", \"MARIA LUISA DELCARMEN ROJAS NARVAEZ\", \"Jos\\u00e9 Alberto dos Santos\", \"JAIME PULIDO / ERMILSON RAMOS\", \"NAGIPE VIANA KLEM\", \"\\u6797\\u73b2\\u7f8e0918232039        \", \"Tropical Farm Management El Salvador, S.A. de C.V.\", \"Mzuzu Coffee Coop Union\", \"Lin yu tang \\u6797\\u7389\\u5802\", \"MARIA DEL ROSARIO IRAIS VALDIVIA ORTIZ\", \"FELIX DE LA CRUZ CASIMIRO\", \"SERGIO DE LA VEQUIA BERNARDI\", \"COOP\", \"Carmem Lucia Chaves de Brito\", \"MARCIO ALBERTO RIVERA CASTELLON\", \"Langiro farm group\", \"Union Ramal Santa Cruz\", \"Guo Zhang Sheng \\u90ed\\u7ae0\\u76db\", \"Jufeng-Tseng \\u66fe\\u5982\\u6953\", \"AVILA MARTINEZ ADOLFO\", \"SALVADOR CARO CARRION\", \"OSCAR TORRES OCHOCA, GENARO MATA CAMBEROS, MANUEL DUARTE MUNGUIA\", \"Various Farms\", \"JOSE FRANCISCO GONZALEZ\", \"AMPCG\", \"Ngorogoro Convenant Estate\", \"Cafetalera Aquiares\", \"ISMAM SAN ISIDRO LABRADOR S. DE S.S.\", \"ROSA AURORA FALCON FERNANDEZ\", \"Apollo Co., LTd.\", \"RAMIRO DE LA VEQUIA BERNARDI\", \"Carlos Pechene / Jes\\u00fas Pechene / Flor Chac\\u00f3n\", \"Santos Fonseca\", \"Mr & Mrs Didas Mallya\", \"HanYong Choi\", \"Finca Estate\", \"Chen Jin Lin \\u9673\\u91d1\\u7498\", \"BSR\", \"Lin Huang, A-Mien \\u9ec3\\u963f\\u7dbf\", \"JORGE OCTAVIO ESCAMILLA PRADO\", \"Vander Bonaccorsi\", \"Jos\\u00e9 Hiroiti\", \"PAUL STAUDER\", \"Maria da Gloria Junqueira\", \"Conquista/Morito\", \"AGRICOLA EL PILAR, S.A.\", \"M\\u00facio Cardoso\", \"Comercial Exportadora, S.A. de C.V.\", \"Mcomafa\", \"Chen gui jiao \\u9673\\u6842\\u5b0c\", \"VARIOS PRODUCTORES\", \"PONCE RUBIO, VENANCIO\", \"FRANCISCO SAENZ, FERNANDO\", \"JUAN HERMILIO SAMPIERI CARCAMO\", \"Fioravante Malagutti\", \"Helena Pingnatti Ricci\", \"MUDAR\", \"U Mg Mg\", \"MARTINIANO A. MORENO ALVARADO\", \"LIN SIN JI \\u6797\\u4fe1\\u5409\", \"Tom\\u00e1s Sosa, Juan Damaso\", \"various small producers\", \"MARIA MAGDALENA LUETHJE Y GRIS\", \"JORGE FRANCISCO MARTINEZ HACHITY\", \"Marilsa de Fatima Peternela\", \"Richard Yeh\", \"PEREZ LEMUS, FELIX\", \"SERGIO LANDA ALARCON\", \"CENEN TORRES CORTES, AVELINO TORES CORTES, JUAN VENTURA GUZMAN\", \"GRACIELA AGUILAR PERALTA\", \"Ngima Amcos\", \"Rolando Lacayo Cardenal\", \"DAE Ltd\", \"Zhang ming fu \\u5f35\\u660e\\u798f\", \"Wu cai jin \\u5433\\u8521\\u9326\", \"UNION RAMAL SANTA CRUZ\", \"PRODUCTORA AGRICOLA Y GANADERA FINCA LA SUIZA\", \"MAYA BINIK\", \"CESAR SANTIZ LOPEZ\", \"ARMANDO GUTIEREZ GUZM\\u00c1N\", \"Cafes Finos de Corquin\", \"AGRICOLA EL PILAR, SA.\", \"\\u8607\\u6649\\u5bec Su Jin Kuan\", \"Acacia Hills Ltd\", \"CHIU WEI LUN \\u90b1\\u5049\\u502b\", \"LUIS ANTONIO LOPEZ AGUILAR\", \"ENRIQUE EDUARDO LOPEZ AGUILAR\", \"CoopeTarrazu\", \"Te\\u00f3filo Narv\\u00e1ez :\", \"NAHUN MALDONADO\", \"AGRICOLA MONTE VERDE\", \"\\u5289\\u6613\\u9a30\", \"Genius Coffee Estate\", \"Beneficio la Eva S.A.\", \"Mzuzu Coffee Coop Union        \", \"HUANG MEI TAO \\u9ec3\\u7f8e\\u6843        \", \"MARIA ROGERIA COSTA PEREIRA\", \"Mixed\", \"Xu yuan zhang \\u5f90\\u6e90\\u6f33\", \"JORGE HERNANDEZ MONTEJO\", \"ZENOBIO MARTINEZ CANO\", \"MANUEL DUARTE MUNGUIA\", \"TOMAS EDELMANN BLASS\", \"MARIA DE LA PAZ AGUILAR GUILLEN\", \"CHIQUIMULJA / ALPHA CAFE / SENFRO\", \"Cafes tomari sa de cv\", \"INACIO URBAN\", \"Jose Omar Acosta\", \"\\u8b1d\\u6587\\u54c1\", \"PACHUJ, S. A.\", \"MARTINEZ BAUTISTA, NICOLAS\", \"MARIA DE LOUDES ANCIRA ELIZONDO\", \"Exportadora de cafe condor s.a\", \"Juan Hermilo Sampieri\", \"NELSON AZEVEDO FRAN\\u00c7A\", \"COFFEE FOR PEACE,INC.\", \"HECTOR GABRIEL BARREDA NADER\", \"NAGIPE VIANA KLEM       \", \"Hu Guei Jing \\u80e1\\u6842\\u9752\", \"Rolando Lacayo\", \"El Injerto S.A.\", \"Shangrilla Estate\", \"Liu ying wu \\u5289\\u7a4e\\u609f\", \"FRANCISCO J. CONTRERAS MARTINEZ DE ESCOBAR\", \"GONZALO CASTILLO\", \"Immaculata John\", \"R.W.J. Wallace Ltd\", \"JOSE RENATO BAIARDI\", \"Bruno de Andrade Frota\", \"Kerchanshe trading plc\", \"Jos\\u00e9 Olavo Boechat\", \"ROLANDO LACAYO\", \"JuanAna Coffee Association\", \"MEDINA PEDRERO PRODUCTOS AGR\\u00cdCOLAS SA DE CV\", \"DIEGO MANUEL WOOLRICH RAMIREZ, ALFREDO FERNANDO WOOLRICH RAMIREZ\", \"ETMAR DIDIER ROBLERO LOPEZ\", \"GABRIEL DE CARVALHO DIAS\", \"HU KUEI CHING \\u80e1\\u6842\\u9752\", \"NELSON MELGAR & REGINO MELGAL\", \"Mlimani Ngarashi\", \"Zhou hong xiu \\u5468\\u7d05\\u79c0\", \"MARTHA PALACIOS\", \"\\u856d\\u9594\\u5bb6\", \"thiririka/Thima\", \"Jose Oscar Garza Sardaneta\", \"Min Hlaing\", \"Karatu Estate\", \"\\u5f35\\u6587\\u9032\", \"Lu bi yun\\u5442\\u78a7\\u4e91\", \"Ding jin cai \\u4e01\\u91d1\\u8ca1\", \"Lu xing hui \\u5442\\u661f\\u8f1d\", \"EDUARDO LUIS AUGUSTO VELAZQUEZ SOLIS\", \"DOMINGO MUGUIRA REVUELTA\", \"JUAN JOSE CASAS BLANCO\", \"MOISES GUILLERMO CARRERA MONTES\", \"DIOGO TUDELA NETO\", \"U Soe\", \"La Gran Manzana\", \"JOSE RIOS LARA, APOLONIA FRANCO TORRES, JENARO GONZALES MENDOZA\", \"COOPAIMAR Copperative Agro Industriel de Marmelade\", \"\\u5510\\u6b0a\\u76db\", \"PACHUJ, S.A\", \"MAX KEND TAKIUTI E OUTROS\", \"ADONIS JOSE ORTEZ BELTRAN\", \"Burka Coffee Estates\", \"BYRON ALONZO SOLIS\", \"\\u738b\\u79cb\\u91d1\", \"EDWIN MU\\u00d1OZ\", \"Jorge Alfredo Pinto\", \"Case Noyale Ltd\", \"Lindolpho de Carvalho Dias\", \"Shwe Yin Mar\", \"IDMAR DE JESUS VELASQUEZ CALDERON\", \"HERAS HERNANDEZ GAUDENCIO\", \"\\u66fe\\u6797\\u6625\\u82f1\", \"Luis, Rafael and Carmen Silva Hoff\", \"Alicia's Farm\", \"Huang san lang \\u9ec3\\u4e09\\u90ce        \", \"CARLOS ALBERTO GOMEZ\", \"SOGESTAL MUMIRWA\", \"Delfina Leon Shine\", \"Kongoni Estate\", \"Wu yi ting \\u5433\\u4f0a\\u5a77\", \"AGRIPEC DE LA VEGA Y CIA.\", \"Luiz Augusto Pereira Moguilod\", \"Yamilet Lope\", \"Balbino Ramirez Flores\", \"Waylead Co, Ltd\", \"U Htun Htun\", \"GLORIA ANTONIETA ESCOBAR URRUTIA\", \"Weng hui ling \\u7fc1\\u60e0\\u9234\", \"HERNANDEZ PACHECO, TIMOTEO\", \"Sheldom La rue\", \"PABLO ENRIQUE MARTINEZ GAMA\", \"CIRILO JOSE JOSE\", \"MARCO VIRGILIO RAMIREZ TELIZ\", \"\\u7c21\\u7fa9\\u69ae\", \"Du zheng ru \\u675c\\u653f\\u5112\", \"Zheng zhao ming \\u912d\\u662d\\u660e\", \"Wu kun shan \\u5433\\u711c\\u5c71\", \"ALBERTA TEODORO ANALCO\", \"FEDERICO PACHECO PEREZ\", \"Ngu Shwe Li Coffee Estate\", \"Zhang xian tong \\u5f35\\u732e\\u9285\", \"SEMIRAMIS CASAS VELAZQUEZ\", \"DELMAR MORENO GUILLEN\", \"MARIA ELENA TERESA FERNANDEZ CEJA\", \"YARA / BENVAR\", \"Asociaci\\u00f3n Aldea Global Jinotega\", \"CIRO DE LA VEQUIA CESSA\", \"Wei-Chieh ( Jack ) Hua\", \"LIN REN FU \\u6797\\u4eba\\u5bcc\", \"Coopeagri\", \"COMONYAJ NOPTIC S DE SS\", \"MINERVA ZU\\u00d1IGA GARCIA\", \"ANGEL GONZALES\", \"Jorge Bolanos\", \"ALFREDO MOISES CEJA\", \"Sociedad Cooperativa de Cafetaleros de Ciudad Barrios de R.L.\", \"GOMEZ GRANILLO, VERONICO\", \"CECILIA AVILA CAMBEROS\", \"ROGELIO JACOME MORALES\", \"Cooperativa de Servicio M\\u00faltiples el Gorri\\u00f3n R.L\", \"\\u5f35\\u7d20\\u771f\", \"MARIA DE LA LUZ SANCHEZ TODD\", \"ADRIANA TORRES RICO QUEVEDO\", \"CNRA\", \"Spot\", \"ERIC JESUS CORDOBA ARROYO\", \"ANTONIO CORDOBA MURILLO\", \"Conquista/ Morito\", \"WU SHU YI \\u5deb\\u53d4\\u61b6\", \"HILARIO GARC\\u00cdA SANDOVAL\", \"SOCIEADAD COOPERATIVA INDUSTRIAL CAFES YAJALON S. C. L.\", \"Various smallholders\", \"GUADALUPE HERAS HERNANDEZ\", \"JUANA RODRIGUEZ GUTIERREZ\", \"Varios\", \"Cooperativa Coaquil\", \"Frontera\", \"GONZALO DE AQUINO FLORES\", \"JUAN CRUZ RIA\\u00d1O\", \"JUAN AVENAMAR RODRIGUEZ FUNEZ\", \"LUISA ZU\\u00d1IGA GARC\\u00cdA\", \"Te\\u00f3filo Narv\\u00e1ez\", \"JOSE VAZQUEZ CANTON, JOSE ANTONIO JIMENEZ GONZALEZ, IRENEO GARCIA VALDIVIA\", \"DAMASO MARTINEZ PEREZ\", \"PEDRO HERRERA GUZMAN, AURELIO GABRIEL HERNANDEZ ,MARIA DE LOURDES DERISTAIN TRESS\", \"Yunnan Louis Herbs R&D Center\", \"JUAN GARCIA HERNANDEZ\", \"GUO JIUN HUNG \\u90ed\\u4fca\\u5b8f & TSENG RU FENG \\u66fe\\u5982\\u6953\", \"EPIFANIO GARCIA DE MIGUEL\", \"J. CARMEN GUZMAN CONCEPCION, IGNACIO RAMIREZ BARAJAS, DIONICIO GARCIA RAMIREZ\", \"Various small producers\", \"REYNALDO OLIVERA RIOS\", \"FRANCISCO RUIZ NU\\u00d1EZ\", \"Manoel Cardoso and Galileo Cardoso\", \"LAMBERTO JOS\\u00c9 GARC\\u00cdA\", \"PABLO CERVANTES MORELOS        \", \"vary farms\", \"CONSUELO GONZALEZ GOMEZ\", \"GreenHouse Coffee\", \"MARIO GARC\\u00cdA\", \"GUSTAVO ABARCA SOLIS\", \"Chen Shuei Lian \\u9673\\u6c34\\u9023\", \"RUBRIA OCHOA BELLO\", \"MARGARITA DE NUYENS Y/O CARLOS NUYENS\", \"AQUILINO GARC\\u00cdA RIA\\u00d1O\", \"ALEJANDRO GARC\\u00cdA PALACIOS\", \"Sol y Cafe\", \"Aspinwall & CO. LTD\", \"CASTULO GUTIERREZ\", \"ISIDORA HERAS HERNANDEZ\", \"1\", \"GUILLERMO EDUARDO BOBADILLA MUGUIRA\", \"various smallholders\", \"SPOSEL S. DE S.S.\", \"SURAYA MAGDALENA LOTFE CALDERON\", \"MART\\u00cdN JIMENEZ CASIANO, PAULINA CERQUEDA ALVAREZ, JULIO MARTINEZ TERAN\", \"MIGUEL LOPEZ TIRZO\", \"GEREMIAS RIA\\u00d1O LOPEZ\", \"CESMACH (VARIOS)\", \"MYRNA ROXANA G\\u00c1LVEZ GONZ\\u00c1LEZ\", \"EUGENE HOLMAN PEW\", \"Asosyasyon Plant\\u00e8 Kafe Kr\\u00e8tapen (APCAP) ;Asosyasyon plant\\u00e8 Kafe Basen (APKBA);Asosyasyon Plant\\u00e8 Kafe\", \"JOS\\u00c9 ARMANDO NORBERTO BORZANI LEMINI\", \"RICARDO AARON SAMPIERI MARINI\", \"JUAN CARLOS GARC\\u00cdA LOPEZ\", \"COEB Koperativ Ekselsyo Basen\"], \"y\": [30, 22, 17, 12, 12, 11, 10, 9, 9, 9, 8, 8, 7, 7, 6, 6, 6, 6, 6, 5, 5, 5, 5, 5, 5, 5, 5, 5, 5, 5, 4, 4, 4, 4, 4, 4, 4, 4, 4, 4, 4, 4, 4, 4, 4, 3, 3, 3, 3, 3, 3, 3, 3, 3, 3, 3, 3, 3, 3, 3, 3, 3, 3, 3, 3, 3, 3, 3, 3, 3, 3, 3, 3, 3, 3, 3, 2, 2, 2, 2, 2, 2, 2, 2, 2, 2, 2, 2, 2, 2, 2, 2, 2, 2, 2, 2, 2, 2, 2, 2, 2, 2, 2, 2, 2, 2, 2, 2, 2, 2, 2, 2, 2, 2, 2, 2, 2, 2, 2, 2, 2, 2, 2, 2, 2, 2, 2, 2, 2, 2, 2, 2, 2, 2, 2, 2, 2, 2, 2, 2, 2, 2, 2, 2, 2, 2, 2, 2, 2, 1, 1, 1, 1, 1, 1, 1, 1, 1, 1, 1, 1, 1, 1, 1, 1, 1, 1, 1, 1, 1, 1, 1, 1, 1, 1, 1, 1, 1, 1, 1, 1, 1, 1, 1, 1, 1, 1, 1, 1, 1, 1, 1, 1, 1, 1, 1, 1, 1, 1, 1, 1, 1, 1, 1, 1, 1, 1, 1, 1, 1, 1, 1, 1, 1, 1, 1, 1, 1, 1, 1, 1, 1, 1, 1, 1, 1, 1, 1, 1, 1, 1, 1, 1, 1, 1, 1, 1, 1, 1, 1, 1, 1, 1, 1, 1, 1, 1, 1, 1, 1, 1, 1, 1, 1, 1, 1, 1, 1, 1, 1, 1, 1, 1, 1, 1, 1, 1, 1, 1, 1, 1, 1, 1, 1, 1, 1, 1, 1, 1, 1, 1, 1, 1, 1, 1, 1, 1, 1, 1, 1, 1, 1, 1, 1, 1, 1, 1, 1, 1, 1, 1, 1, 1, 1, 1, 1, 1, 1, 1, 1, 1, 1, 1, 1, 1, 1, 1, 1, 1, 1, 1, 1, 1, 1, 1, 1, 1, 1, 1, 1, 1, 1, 1, 1, 1, 1, 1, 1, 1, 1, 1, 1, 1, 1, 1, 1, 1, 1, 1, 1, 1, 1, 1, 1, 1, 1, 1, 1, 1, 1, 1, 1, 1, 1, 1, 1, 1, 1, 1, 1, 1, 1, 1, 1, 1, 1, 1, 1, 1, 1, 1, 1, 1, 1, 1, 1, 1, 1, 1, 1, 1, 1, 1, 1, 1, 1, 1, 1, 1, 1, 1, 1, 1, 1, 1, 1, 1, 1, 1, 1, 1, 1, 1, 1, 1, 1, 1, 1, 1, 1, 1, 1, 1, 1, 1, 1, 1, 1, 1, 1, 1, 1, 1, 1, 1, 1, 1, 1, 1, 1, 1, 1, 1, 1, 1, 1, 1, 1, 1, 1, 1, 1, 1, 1, 1, 1, 1, 1, 1, 1, 1, 1, 1, 1, 1, 1, 1, 1, 1, 1, 1, 1, 1, 1, 1, 1, 1, 1, 1, 1, 1, 1, 1, 1, 1, 1, 1, 1, 1, 1, 1, 1, 1, 1, 1, 1, 1, 1, 1, 1, 1, 1, 1, 1, 1, 1, 1, 1, 1, 1, 1, 1, 1, 1, 1, 1, 1, 1, 1, 1, 1, 1, 1, 1, 1, 1, 1, 1, 1, 1, 1, 1, 1, 1, 1, 1, 1, 1, 1, 1, 1, 1, 1, 1, 1, 1, 1, 1, 1, 1, 1, 1, 1, 1, 1, 1, 1, 1, 1, 1, 1, 1, 1, 1, 1, 1, 1, 1, 1, 1, 1, 1, 1, 1, 1, 1, 1, 1, 1, 1, 1, 1, 1, 1, 1, 1, 1, 1, 1, 1, 1, 1, 1, 1, 1, 1, 1, 1, 1, 1, 1, 1, 1, 1, 1, 1, 1, 1, 1, 1, 1, 1, 1, 1, 1, 1, 1, 1, 1, 1, 1, 1, 1, 1, 1, 1, 1, 1, 1, 1, 1, 1, 1, 1, 1, 1, 1, 1, 1, 1, 1, 1, 1, 1, 1, 1, 1, 1, 1, 1, 1, 1, 1, 1, 1, 1, 1, 1, 1, 1, 1, 1, 1, 1, 1, 1, 1, 1, 1, 1, 1, 1, 1, 1, 1]}],                        {\"template\": {\"data\": {\"bar\": [{\"error_x\": {\"color\": \"#f2f5fa\"}, \"error_y\": {\"color\": \"#f2f5fa\"}, \"marker\": {\"line\": {\"color\": \"rgb(17,17,17)\", \"width\": 0.5}}, \"type\": \"bar\"}], \"barpolar\": [{\"marker\": {\"line\": {\"color\": \"rgb(17,17,17)\", \"width\": 0.5}}, \"type\": \"barpolar\"}], \"carpet\": [{\"aaxis\": {\"endlinecolor\": \"#A2B1C6\", \"gridcolor\": \"#506784\", \"linecolor\": \"#506784\", \"minorgridcolor\": \"#506784\", \"startlinecolor\": \"#A2B1C6\"}, \"baxis\": {\"endlinecolor\": \"#A2B1C6\", \"gridcolor\": \"#506784\", \"linecolor\": \"#506784\", \"minorgridcolor\": \"#506784\", \"startlinecolor\": \"#A2B1C6\"}, \"type\": \"carpet\"}], \"choropleth\": [{\"colorbar\": {\"outlinewidth\": 0, \"ticks\": \"\"}, \"type\": \"choropleth\"}], \"contour\": [{\"colorbar\": {\"outlinewidth\": 0, \"ticks\": \"\"}, \"colorscale\": [[0.0, \"#0d0887\"], [0.1111111111111111, \"#46039f\"], [0.2222222222222222, \"#7201a8\"], [0.3333333333333333, \"#9c179e\"], [0.4444444444444444, \"#bd3786\"], [0.5555555555555556, \"#d8576b\"], [0.6666666666666666, \"#ed7953\"], [0.7777777777777778, \"#fb9f3a\"], [0.8888888888888888, \"#fdca26\"], [1.0, \"#f0f921\"]], \"type\": \"contour\"}], \"contourcarpet\": [{\"colorbar\": {\"outlinewidth\": 0, \"ticks\": \"\"}, \"type\": \"contourcarpet\"}], \"heatmap\": [{\"colorbar\": {\"outlinewidth\": 0, \"ticks\": \"\"}, \"colorscale\": [[0.0, \"#0d0887\"], [0.1111111111111111, \"#46039f\"], [0.2222222222222222, \"#7201a8\"], [0.3333333333333333, \"#9c179e\"], [0.4444444444444444, \"#bd3786\"], [0.5555555555555556, \"#d8576b\"], [0.6666666666666666, \"#ed7953\"], [0.7777777777777778, \"#fb9f3a\"], [0.8888888888888888, \"#fdca26\"], [1.0, \"#f0f921\"]], \"type\": \"heatmap\"}], \"heatmapgl\": [{\"colorbar\": {\"outlinewidth\": 0, \"ticks\": \"\"}, \"colorscale\": [[0.0, \"#0d0887\"], [0.1111111111111111, \"#46039f\"], [0.2222222222222222, \"#7201a8\"], [0.3333333333333333, \"#9c179e\"], [0.4444444444444444, \"#bd3786\"], [0.5555555555555556, \"#d8576b\"], [0.6666666666666666, \"#ed7953\"], [0.7777777777777778, \"#fb9f3a\"], [0.8888888888888888, \"#fdca26\"], [1.0, \"#f0f921\"]], \"type\": \"heatmapgl\"}], \"histogram\": [{\"marker\": {\"colorbar\": {\"outlinewidth\": 0, \"ticks\": \"\"}}, \"type\": \"histogram\"}], \"histogram2d\": [{\"colorbar\": {\"outlinewidth\": 0, \"ticks\": \"\"}, \"colorscale\": [[0.0, \"#0d0887\"], [0.1111111111111111, \"#46039f\"], [0.2222222222222222, \"#7201a8\"], [0.3333333333333333, \"#9c179e\"], [0.4444444444444444, \"#bd3786\"], [0.5555555555555556, \"#d8576b\"], [0.6666666666666666, \"#ed7953\"], [0.7777777777777778, \"#fb9f3a\"], [0.8888888888888888, \"#fdca26\"], [1.0, \"#f0f921\"]], \"type\": \"histogram2d\"}], \"histogram2dcontour\": [{\"colorbar\": {\"outlinewidth\": 0, \"ticks\": \"\"}, \"colorscale\": [[0.0, \"#0d0887\"], [0.1111111111111111, \"#46039f\"], [0.2222222222222222, \"#7201a8\"], [0.3333333333333333, \"#9c179e\"], [0.4444444444444444, \"#bd3786\"], [0.5555555555555556, \"#d8576b\"], [0.6666666666666666, \"#ed7953\"], [0.7777777777777778, \"#fb9f3a\"], [0.8888888888888888, \"#fdca26\"], [1.0, \"#f0f921\"]], \"type\": \"histogram2dcontour\"}], \"mesh3d\": [{\"colorbar\": {\"outlinewidth\": 0, \"ticks\": \"\"}, \"type\": \"mesh3d\"}], \"parcoords\": [{\"line\": {\"colorbar\": {\"outlinewidth\": 0, \"ticks\": \"\"}}, \"type\": \"parcoords\"}], \"pie\": [{\"automargin\": true, \"type\": \"pie\"}], \"scatter\": [{\"marker\": {\"line\": {\"color\": \"#283442\"}}, \"type\": \"scatter\"}], \"scatter3d\": [{\"line\": {\"colorbar\": {\"outlinewidth\": 0, \"ticks\": \"\"}}, \"marker\": {\"colorbar\": {\"outlinewidth\": 0, \"ticks\": \"\"}}, \"type\": \"scatter3d\"}], \"scattercarpet\": [{\"marker\": {\"colorbar\": {\"outlinewidth\": 0, \"ticks\": \"\"}}, \"type\": \"scattercarpet\"}], \"scattergeo\": [{\"marker\": {\"colorbar\": {\"outlinewidth\": 0, \"ticks\": \"\"}}, \"type\": \"scattergeo\"}], \"scattergl\": [{\"marker\": {\"line\": {\"color\": \"#283442\"}}, \"type\": \"scattergl\"}], \"scattermapbox\": [{\"marker\": {\"colorbar\": {\"outlinewidth\": 0, \"ticks\": \"\"}}, \"type\": \"scattermapbox\"}], \"scatterpolar\": [{\"marker\": {\"colorbar\": {\"outlinewidth\": 0, \"ticks\": \"\"}}, \"type\": \"scatterpolar\"}], \"scatterpolargl\": [{\"marker\": {\"colorbar\": {\"outlinewidth\": 0, \"ticks\": \"\"}}, \"type\": \"scatterpolargl\"}], \"scatterternary\": [{\"marker\": {\"colorbar\": {\"outlinewidth\": 0, \"ticks\": \"\"}}, \"type\": \"scatterternary\"}], \"surface\": [{\"colorbar\": {\"outlinewidth\": 0, \"ticks\": \"\"}, \"colorscale\": [[0.0, \"#0d0887\"], [0.1111111111111111, \"#46039f\"], [0.2222222222222222, \"#7201a8\"], [0.3333333333333333, \"#9c179e\"], [0.4444444444444444, \"#bd3786\"], [0.5555555555555556, \"#d8576b\"], [0.6666666666666666, \"#ed7953\"], [0.7777777777777778, \"#fb9f3a\"], [0.8888888888888888, \"#fdca26\"], [1.0, \"#f0f921\"]], \"type\": \"surface\"}], \"table\": [{\"cells\": {\"fill\": {\"color\": \"#506784\"}, \"line\": {\"color\": \"rgb(17,17,17)\"}}, \"header\": {\"fill\": {\"color\": \"#2a3f5f\"}, \"line\": {\"color\": \"rgb(17,17,17)\"}}, \"type\": \"table\"}]}, \"layout\": {\"annotationdefaults\": {\"arrowcolor\": \"#f2f5fa\", \"arrowhead\": 0, \"arrowwidth\": 1}, \"autotypenumbers\": \"strict\", \"coloraxis\": {\"colorbar\": {\"outlinewidth\": 0, \"ticks\": \"\"}}, \"colorscale\": {\"diverging\": [[0, \"#8e0152\"], [0.1, \"#c51b7d\"], [0.2, \"#de77ae\"], [0.3, \"#f1b6da\"], [0.4, \"#fde0ef\"], [0.5, \"#f7f7f7\"], [0.6, \"#e6f5d0\"], [0.7, \"#b8e186\"], [0.8, \"#7fbc41\"], [0.9, \"#4d9221\"], [1, \"#276419\"]], \"sequential\": [[0.0, \"#0d0887\"], [0.1111111111111111, \"#46039f\"], [0.2222222222222222, \"#7201a8\"], [0.3333333333333333, \"#9c179e\"], [0.4444444444444444, \"#bd3786\"], [0.5555555555555556, \"#d8576b\"], [0.6666666666666666, \"#ed7953\"], [0.7777777777777778, \"#fb9f3a\"], [0.8888888888888888, \"#fdca26\"], [1.0, \"#f0f921\"]], \"sequentialminus\": [[0.0, \"#0d0887\"], [0.1111111111111111, \"#46039f\"], [0.2222222222222222, \"#7201a8\"], [0.3333333333333333, \"#9c179e\"], [0.4444444444444444, \"#bd3786\"], [0.5555555555555556, \"#d8576b\"], [0.6666666666666666, \"#ed7953\"], [0.7777777777777778, \"#fb9f3a\"], [0.8888888888888888, \"#fdca26\"], [1.0, \"#f0f921\"]]}, \"colorway\": [\"#636efa\", \"#EF553B\", \"#00cc96\", \"#ab63fa\", \"#FFA15A\", \"#19d3f3\", \"#FF6692\", \"#B6E880\", \"#FF97FF\", \"#FECB52\"], \"font\": {\"color\": \"#f2f5fa\"}, \"geo\": {\"bgcolor\": \"rgb(17,17,17)\", \"lakecolor\": \"rgb(17,17,17)\", \"landcolor\": \"rgb(17,17,17)\", \"showlakes\": true, \"showland\": true, \"subunitcolor\": \"#506784\"}, \"hoverlabel\": {\"align\": \"left\"}, \"hovermode\": \"closest\", \"mapbox\": {\"style\": \"dark\"}, \"paper_bgcolor\": \"rgb(17,17,17)\", \"plot_bgcolor\": \"rgb(17,17,17)\", \"polar\": {\"angularaxis\": {\"gridcolor\": \"#506784\", \"linecolor\": \"#506784\", \"ticks\": \"\"}, \"bgcolor\": \"rgb(17,17,17)\", \"radialaxis\": {\"gridcolor\": \"#506784\", \"linecolor\": \"#506784\", \"ticks\": \"\"}}, \"scene\": {\"xaxis\": {\"backgroundcolor\": \"rgb(17,17,17)\", \"gridcolor\": \"#506784\", \"gridwidth\": 2, \"linecolor\": \"#506784\", \"showbackground\": true, \"ticks\": \"\", \"zerolinecolor\": \"#C8D4E3\"}, \"yaxis\": {\"backgroundcolor\": \"rgb(17,17,17)\", \"gridcolor\": \"#506784\", \"gridwidth\": 2, \"linecolor\": \"#506784\", \"showbackground\": true, \"ticks\": \"\", \"zerolinecolor\": \"#C8D4E3\"}, \"zaxis\": {\"backgroundcolor\": \"rgb(17,17,17)\", \"gridcolor\": \"#506784\", \"gridwidth\": 2, \"linecolor\": \"#506784\", \"showbackground\": true, \"ticks\": \"\", \"zerolinecolor\": \"#C8D4E3\"}}, \"shapedefaults\": {\"line\": {\"color\": \"#f2f5fa\"}}, \"sliderdefaults\": {\"bgcolor\": \"#C8D4E3\", \"bordercolor\": \"rgb(17,17,17)\", \"borderwidth\": 1, \"tickwidth\": 0}, \"ternary\": {\"aaxis\": {\"gridcolor\": \"#506784\", \"linecolor\": \"#506784\", \"ticks\": \"\"}, \"baxis\": {\"gridcolor\": \"#506784\", \"linecolor\": \"#506784\", \"ticks\": \"\"}, \"bgcolor\": \"rgb(17,17,17)\", \"caxis\": {\"gridcolor\": \"#506784\", \"linecolor\": \"#506784\", \"ticks\": \"\"}}, \"title\": {\"x\": 0.05}, \"updatemenudefaults\": {\"bgcolor\": \"#506784\", \"borderwidth\": 0}, \"xaxis\": {\"automargin\": true, \"gridcolor\": \"#283442\", \"linecolor\": \"#506784\", \"ticks\": \"\", \"title\": {\"standoff\": 15}, \"zerolinecolor\": \"#283442\", \"zerolinewidth\": 2}, \"yaxis\": {\"automargin\": true, \"gridcolor\": \"#283442\", \"linecolor\": \"#506784\", \"ticks\": \"\", \"title\": {\"standoff\": 15}, \"zerolinecolor\": \"#283442\", \"zerolinewidth\": 2}}}, \"title\": {\"text\": \"Arabica: Producer\"}, \"xaxis\": {\"title\": {\"text\": \"Producer\"}}, \"yaxis\": {\"title\": {\"text\": \"Counts\"}}},                        {\"responsive\": true}                    ).then(function(){\n",
       "                            \n",
       "var gd = document.getElementById('b7a04a32-7a96-4311-ace1-1e4b0446750d');\n",
       "var x = new MutationObserver(function (mutations, observer) {{\n",
       "        var display = window.getComputedStyle(gd).display;\n",
       "        if (!display || display === 'none') {{\n",
       "            console.log([gd, 'removed!']);\n",
       "            Plotly.purge(gd);\n",
       "            observer.disconnect();\n",
       "        }}\n",
       "}});\n",
       "\n",
       "// Listen for the removal of the full notebook cells\n",
       "var notebookContainer = gd.closest('#notebook-container');\n",
       "if (notebookContainer) {{\n",
       "    x.observe(notebookContainer, {childList: true});\n",
       "}}\n",
       "\n",
       "// Listen for the clearing of the current output cell\n",
       "var outputEl = gd.closest('.output');\n",
       "if (outputEl) {{\n",
       "    x.observe(outputEl, {childList: true});\n",
       "}}\n",
       "\n",
       "                        })                };                });            </script>        </div>"
      ]
     },
     "metadata": {},
     "output_type": "display_data"
    },
    {
     "data": {
      "application/vnd.plotly.v1+json": {
       "config": {
        "plotlyServerURL": "https://plot.ly"
       },
       "data": [
        {
         "marker": {
          "color": "white"
         },
         "type": "bar",
         "x": [
          "Washed / Wet",
          null,
          "Natural / Dry",
          "Pulped natural / honey",
          "Semi-washed / Semi-pulped",
          "Other"
         ],
         "y": [
          812,
          251,
          56,
          26,
          14
         ]
        }
       ],
       "layout": {
        "template": {
         "data": {
          "bar": [
           {
            "error_x": {
             "color": "#f2f5fa"
            },
            "error_y": {
             "color": "#f2f5fa"
            },
            "marker": {
             "line": {
              "color": "rgb(17,17,17)",
              "width": 0.5
             }
            },
            "type": "bar"
           }
          ],
          "barpolar": [
           {
            "marker": {
             "line": {
              "color": "rgb(17,17,17)",
              "width": 0.5
             }
            },
            "type": "barpolar"
           }
          ],
          "carpet": [
           {
            "aaxis": {
             "endlinecolor": "#A2B1C6",
             "gridcolor": "#506784",
             "linecolor": "#506784",
             "minorgridcolor": "#506784",
             "startlinecolor": "#A2B1C6"
            },
            "baxis": {
             "endlinecolor": "#A2B1C6",
             "gridcolor": "#506784",
             "linecolor": "#506784",
             "minorgridcolor": "#506784",
             "startlinecolor": "#A2B1C6"
            },
            "type": "carpet"
           }
          ],
          "choropleth": [
           {
            "colorbar": {
             "outlinewidth": 0,
             "ticks": ""
            },
            "type": "choropleth"
           }
          ],
          "contour": [
           {
            "colorbar": {
             "outlinewidth": 0,
             "ticks": ""
            },
            "colorscale": [
             [
              0,
              "#0d0887"
             ],
             [
              0.1111111111111111,
              "#46039f"
             ],
             [
              0.2222222222222222,
              "#7201a8"
             ],
             [
              0.3333333333333333,
              "#9c179e"
             ],
             [
              0.4444444444444444,
              "#bd3786"
             ],
             [
              0.5555555555555556,
              "#d8576b"
             ],
             [
              0.6666666666666666,
              "#ed7953"
             ],
             [
              0.7777777777777778,
              "#fb9f3a"
             ],
             [
              0.8888888888888888,
              "#fdca26"
             ],
             [
              1,
              "#f0f921"
             ]
            ],
            "type": "contour"
           }
          ],
          "contourcarpet": [
           {
            "colorbar": {
             "outlinewidth": 0,
             "ticks": ""
            },
            "type": "contourcarpet"
           }
          ],
          "heatmap": [
           {
            "colorbar": {
             "outlinewidth": 0,
             "ticks": ""
            },
            "colorscale": [
             [
              0,
              "#0d0887"
             ],
             [
              0.1111111111111111,
              "#46039f"
             ],
             [
              0.2222222222222222,
              "#7201a8"
             ],
             [
              0.3333333333333333,
              "#9c179e"
             ],
             [
              0.4444444444444444,
              "#bd3786"
             ],
             [
              0.5555555555555556,
              "#d8576b"
             ],
             [
              0.6666666666666666,
              "#ed7953"
             ],
             [
              0.7777777777777778,
              "#fb9f3a"
             ],
             [
              0.8888888888888888,
              "#fdca26"
             ],
             [
              1,
              "#f0f921"
             ]
            ],
            "type": "heatmap"
           }
          ],
          "heatmapgl": [
           {
            "colorbar": {
             "outlinewidth": 0,
             "ticks": ""
            },
            "colorscale": [
             [
              0,
              "#0d0887"
             ],
             [
              0.1111111111111111,
              "#46039f"
             ],
             [
              0.2222222222222222,
              "#7201a8"
             ],
             [
              0.3333333333333333,
              "#9c179e"
             ],
             [
              0.4444444444444444,
              "#bd3786"
             ],
             [
              0.5555555555555556,
              "#d8576b"
             ],
             [
              0.6666666666666666,
              "#ed7953"
             ],
             [
              0.7777777777777778,
              "#fb9f3a"
             ],
             [
              0.8888888888888888,
              "#fdca26"
             ],
             [
              1,
              "#f0f921"
             ]
            ],
            "type": "heatmapgl"
           }
          ],
          "histogram": [
           {
            "marker": {
             "colorbar": {
              "outlinewidth": 0,
              "ticks": ""
             }
            },
            "type": "histogram"
           }
          ],
          "histogram2d": [
           {
            "colorbar": {
             "outlinewidth": 0,
             "ticks": ""
            },
            "colorscale": [
             [
              0,
              "#0d0887"
             ],
             [
              0.1111111111111111,
              "#46039f"
             ],
             [
              0.2222222222222222,
              "#7201a8"
             ],
             [
              0.3333333333333333,
              "#9c179e"
             ],
             [
              0.4444444444444444,
              "#bd3786"
             ],
             [
              0.5555555555555556,
              "#d8576b"
             ],
             [
              0.6666666666666666,
              "#ed7953"
             ],
             [
              0.7777777777777778,
              "#fb9f3a"
             ],
             [
              0.8888888888888888,
              "#fdca26"
             ],
             [
              1,
              "#f0f921"
             ]
            ],
            "type": "histogram2d"
           }
          ],
          "histogram2dcontour": [
           {
            "colorbar": {
             "outlinewidth": 0,
             "ticks": ""
            },
            "colorscale": [
             [
              0,
              "#0d0887"
             ],
             [
              0.1111111111111111,
              "#46039f"
             ],
             [
              0.2222222222222222,
              "#7201a8"
             ],
             [
              0.3333333333333333,
              "#9c179e"
             ],
             [
              0.4444444444444444,
              "#bd3786"
             ],
             [
              0.5555555555555556,
              "#d8576b"
             ],
             [
              0.6666666666666666,
              "#ed7953"
             ],
             [
              0.7777777777777778,
              "#fb9f3a"
             ],
             [
              0.8888888888888888,
              "#fdca26"
             ],
             [
              1,
              "#f0f921"
             ]
            ],
            "type": "histogram2dcontour"
           }
          ],
          "mesh3d": [
           {
            "colorbar": {
             "outlinewidth": 0,
             "ticks": ""
            },
            "type": "mesh3d"
           }
          ],
          "parcoords": [
           {
            "line": {
             "colorbar": {
              "outlinewidth": 0,
              "ticks": ""
             }
            },
            "type": "parcoords"
           }
          ],
          "pie": [
           {
            "automargin": true,
            "type": "pie"
           }
          ],
          "scatter": [
           {
            "marker": {
             "line": {
              "color": "#283442"
             }
            },
            "type": "scatter"
           }
          ],
          "scatter3d": [
           {
            "line": {
             "colorbar": {
              "outlinewidth": 0,
              "ticks": ""
             }
            },
            "marker": {
             "colorbar": {
              "outlinewidth": 0,
              "ticks": ""
             }
            },
            "type": "scatter3d"
           }
          ],
          "scattercarpet": [
           {
            "marker": {
             "colorbar": {
              "outlinewidth": 0,
              "ticks": ""
             }
            },
            "type": "scattercarpet"
           }
          ],
          "scattergeo": [
           {
            "marker": {
             "colorbar": {
              "outlinewidth": 0,
              "ticks": ""
             }
            },
            "type": "scattergeo"
           }
          ],
          "scattergl": [
           {
            "marker": {
             "line": {
              "color": "#283442"
             }
            },
            "type": "scattergl"
           }
          ],
          "scattermapbox": [
           {
            "marker": {
             "colorbar": {
              "outlinewidth": 0,
              "ticks": ""
             }
            },
            "type": "scattermapbox"
           }
          ],
          "scatterpolar": [
           {
            "marker": {
             "colorbar": {
              "outlinewidth": 0,
              "ticks": ""
             }
            },
            "type": "scatterpolar"
           }
          ],
          "scatterpolargl": [
           {
            "marker": {
             "colorbar": {
              "outlinewidth": 0,
              "ticks": ""
             }
            },
            "type": "scatterpolargl"
           }
          ],
          "scatterternary": [
           {
            "marker": {
             "colorbar": {
              "outlinewidth": 0,
              "ticks": ""
             }
            },
            "type": "scatterternary"
           }
          ],
          "surface": [
           {
            "colorbar": {
             "outlinewidth": 0,
             "ticks": ""
            },
            "colorscale": [
             [
              0,
              "#0d0887"
             ],
             [
              0.1111111111111111,
              "#46039f"
             ],
             [
              0.2222222222222222,
              "#7201a8"
             ],
             [
              0.3333333333333333,
              "#9c179e"
             ],
             [
              0.4444444444444444,
              "#bd3786"
             ],
             [
              0.5555555555555556,
              "#d8576b"
             ],
             [
              0.6666666666666666,
              "#ed7953"
             ],
             [
              0.7777777777777778,
              "#fb9f3a"
             ],
             [
              0.8888888888888888,
              "#fdca26"
             ],
             [
              1,
              "#f0f921"
             ]
            ],
            "type": "surface"
           }
          ],
          "table": [
           {
            "cells": {
             "fill": {
              "color": "#506784"
             },
             "line": {
              "color": "rgb(17,17,17)"
             }
            },
            "header": {
             "fill": {
              "color": "#2a3f5f"
             },
             "line": {
              "color": "rgb(17,17,17)"
             }
            },
            "type": "table"
           }
          ]
         },
         "layout": {
          "annotationdefaults": {
           "arrowcolor": "#f2f5fa",
           "arrowhead": 0,
           "arrowwidth": 1
          },
          "autotypenumbers": "strict",
          "coloraxis": {
           "colorbar": {
            "outlinewidth": 0,
            "ticks": ""
           }
          },
          "colorscale": {
           "diverging": [
            [
             0,
             "#8e0152"
            ],
            [
             0.1,
             "#c51b7d"
            ],
            [
             0.2,
             "#de77ae"
            ],
            [
             0.3,
             "#f1b6da"
            ],
            [
             0.4,
             "#fde0ef"
            ],
            [
             0.5,
             "#f7f7f7"
            ],
            [
             0.6,
             "#e6f5d0"
            ],
            [
             0.7,
             "#b8e186"
            ],
            [
             0.8,
             "#7fbc41"
            ],
            [
             0.9,
             "#4d9221"
            ],
            [
             1,
             "#276419"
            ]
           ],
           "sequential": [
            [
             0,
             "#0d0887"
            ],
            [
             0.1111111111111111,
             "#46039f"
            ],
            [
             0.2222222222222222,
             "#7201a8"
            ],
            [
             0.3333333333333333,
             "#9c179e"
            ],
            [
             0.4444444444444444,
             "#bd3786"
            ],
            [
             0.5555555555555556,
             "#d8576b"
            ],
            [
             0.6666666666666666,
             "#ed7953"
            ],
            [
             0.7777777777777778,
             "#fb9f3a"
            ],
            [
             0.8888888888888888,
             "#fdca26"
            ],
            [
             1,
             "#f0f921"
            ]
           ],
           "sequentialminus": [
            [
             0,
             "#0d0887"
            ],
            [
             0.1111111111111111,
             "#46039f"
            ],
            [
             0.2222222222222222,
             "#7201a8"
            ],
            [
             0.3333333333333333,
             "#9c179e"
            ],
            [
             0.4444444444444444,
             "#bd3786"
            ],
            [
             0.5555555555555556,
             "#d8576b"
            ],
            [
             0.6666666666666666,
             "#ed7953"
            ],
            [
             0.7777777777777778,
             "#fb9f3a"
            ],
            [
             0.8888888888888888,
             "#fdca26"
            ],
            [
             1,
             "#f0f921"
            ]
           ]
          },
          "colorway": [
           "#636efa",
           "#EF553B",
           "#00cc96",
           "#ab63fa",
           "#FFA15A",
           "#19d3f3",
           "#FF6692",
           "#B6E880",
           "#FF97FF",
           "#FECB52"
          ],
          "font": {
           "color": "#f2f5fa"
          },
          "geo": {
           "bgcolor": "rgb(17,17,17)",
           "lakecolor": "rgb(17,17,17)",
           "landcolor": "rgb(17,17,17)",
           "showlakes": true,
           "showland": true,
           "subunitcolor": "#506784"
          },
          "hoverlabel": {
           "align": "left"
          },
          "hovermode": "closest",
          "mapbox": {
           "style": "dark"
          },
          "paper_bgcolor": "rgb(17,17,17)",
          "plot_bgcolor": "rgb(17,17,17)",
          "polar": {
           "angularaxis": {
            "gridcolor": "#506784",
            "linecolor": "#506784",
            "ticks": ""
           },
           "bgcolor": "rgb(17,17,17)",
           "radialaxis": {
            "gridcolor": "#506784",
            "linecolor": "#506784",
            "ticks": ""
           }
          },
          "scene": {
           "xaxis": {
            "backgroundcolor": "rgb(17,17,17)",
            "gridcolor": "#506784",
            "gridwidth": 2,
            "linecolor": "#506784",
            "showbackground": true,
            "ticks": "",
            "zerolinecolor": "#C8D4E3"
           },
           "yaxis": {
            "backgroundcolor": "rgb(17,17,17)",
            "gridcolor": "#506784",
            "gridwidth": 2,
            "linecolor": "#506784",
            "showbackground": true,
            "ticks": "",
            "zerolinecolor": "#C8D4E3"
           },
           "zaxis": {
            "backgroundcolor": "rgb(17,17,17)",
            "gridcolor": "#506784",
            "gridwidth": 2,
            "linecolor": "#506784",
            "showbackground": true,
            "ticks": "",
            "zerolinecolor": "#C8D4E3"
           }
          },
          "shapedefaults": {
           "line": {
            "color": "#f2f5fa"
           }
          },
          "sliderdefaults": {
           "bgcolor": "#C8D4E3",
           "bordercolor": "rgb(17,17,17)",
           "borderwidth": 1,
           "tickwidth": 0
          },
          "ternary": {
           "aaxis": {
            "gridcolor": "#506784",
            "linecolor": "#506784",
            "ticks": ""
           },
           "baxis": {
            "gridcolor": "#506784",
            "linecolor": "#506784",
            "ticks": ""
           },
           "bgcolor": "rgb(17,17,17)",
           "caxis": {
            "gridcolor": "#506784",
            "linecolor": "#506784",
            "ticks": ""
           }
          },
          "title": {
           "x": 0.05
          },
          "updatemenudefaults": {
           "bgcolor": "#506784",
           "borderwidth": 0
          },
          "xaxis": {
           "automargin": true,
           "gridcolor": "#283442",
           "linecolor": "#506784",
           "ticks": "",
           "title": {
            "standoff": 15
           },
           "zerolinecolor": "#283442",
           "zerolinewidth": 2
          },
          "yaxis": {
           "automargin": true,
           "gridcolor": "#283442",
           "linecolor": "#506784",
           "ticks": "",
           "title": {
            "standoff": 15
           },
           "zerolinecolor": "#283442",
           "zerolinewidth": 2
          }
         }
        },
        "title": {
         "text": "Arabica: Processing Method"
        },
        "xaxis": {
         "title": {
          "text": "Processing Method"
         }
        },
        "yaxis": {
         "title": {
          "text": "Counts"
         }
        }
       }
      },
      "text/html": [
       "<div>                            <div id=\"0fe5cc1b-f183-4a65-a201-1a7eb9393c10\" class=\"plotly-graph-div\" style=\"height:525px; width:100%;\"></div>            <script type=\"text/javascript\">                require([\"plotly\"], function(Plotly) {                    window.PLOTLYENV=window.PLOTLYENV || {};                                    if (document.getElementById(\"0fe5cc1b-f183-4a65-a201-1a7eb9393c10\")) {                    Plotly.newPlot(                        \"0fe5cc1b-f183-4a65-a201-1a7eb9393c10\",                        [{\"marker\": {\"color\": \"white\"}, \"type\": \"bar\", \"x\": [\"Washed / Wet\", null, \"Natural / Dry\", \"Pulped natural / honey\", \"Semi-washed / Semi-pulped\", \"Other\"], \"y\": [812, 251, 56, 26, 14]}],                        {\"template\": {\"data\": {\"bar\": [{\"error_x\": {\"color\": \"#f2f5fa\"}, \"error_y\": {\"color\": \"#f2f5fa\"}, \"marker\": {\"line\": {\"color\": \"rgb(17,17,17)\", \"width\": 0.5}}, \"type\": \"bar\"}], \"barpolar\": [{\"marker\": {\"line\": {\"color\": \"rgb(17,17,17)\", \"width\": 0.5}}, \"type\": \"barpolar\"}], \"carpet\": [{\"aaxis\": {\"endlinecolor\": \"#A2B1C6\", \"gridcolor\": \"#506784\", \"linecolor\": \"#506784\", \"minorgridcolor\": \"#506784\", \"startlinecolor\": \"#A2B1C6\"}, \"baxis\": {\"endlinecolor\": \"#A2B1C6\", \"gridcolor\": \"#506784\", \"linecolor\": \"#506784\", \"minorgridcolor\": \"#506784\", \"startlinecolor\": \"#A2B1C6\"}, \"type\": \"carpet\"}], \"choropleth\": [{\"colorbar\": {\"outlinewidth\": 0, \"ticks\": \"\"}, \"type\": \"choropleth\"}], \"contour\": [{\"colorbar\": {\"outlinewidth\": 0, \"ticks\": \"\"}, \"colorscale\": [[0.0, \"#0d0887\"], [0.1111111111111111, \"#46039f\"], [0.2222222222222222, \"#7201a8\"], [0.3333333333333333, \"#9c179e\"], [0.4444444444444444, \"#bd3786\"], [0.5555555555555556, \"#d8576b\"], [0.6666666666666666, \"#ed7953\"], [0.7777777777777778, \"#fb9f3a\"], [0.8888888888888888, \"#fdca26\"], [1.0, \"#f0f921\"]], \"type\": \"contour\"}], \"contourcarpet\": [{\"colorbar\": {\"outlinewidth\": 0, \"ticks\": \"\"}, \"type\": \"contourcarpet\"}], \"heatmap\": [{\"colorbar\": {\"outlinewidth\": 0, \"ticks\": \"\"}, \"colorscale\": [[0.0, \"#0d0887\"], [0.1111111111111111, \"#46039f\"], [0.2222222222222222, \"#7201a8\"], [0.3333333333333333, \"#9c179e\"], [0.4444444444444444, \"#bd3786\"], [0.5555555555555556, \"#d8576b\"], [0.6666666666666666, \"#ed7953\"], [0.7777777777777778, \"#fb9f3a\"], [0.8888888888888888, \"#fdca26\"], [1.0, \"#f0f921\"]], \"type\": \"heatmap\"}], \"heatmapgl\": [{\"colorbar\": {\"outlinewidth\": 0, \"ticks\": \"\"}, \"colorscale\": [[0.0, \"#0d0887\"], [0.1111111111111111, \"#46039f\"], [0.2222222222222222, \"#7201a8\"], [0.3333333333333333, \"#9c179e\"], [0.4444444444444444, \"#bd3786\"], [0.5555555555555556, \"#d8576b\"], [0.6666666666666666, \"#ed7953\"], [0.7777777777777778, \"#fb9f3a\"], [0.8888888888888888, \"#fdca26\"], [1.0, \"#f0f921\"]], \"type\": \"heatmapgl\"}], \"histogram\": [{\"marker\": {\"colorbar\": {\"outlinewidth\": 0, \"ticks\": \"\"}}, \"type\": \"histogram\"}], \"histogram2d\": [{\"colorbar\": {\"outlinewidth\": 0, \"ticks\": \"\"}, \"colorscale\": [[0.0, \"#0d0887\"], [0.1111111111111111, \"#46039f\"], [0.2222222222222222, \"#7201a8\"], [0.3333333333333333, \"#9c179e\"], [0.4444444444444444, \"#bd3786\"], [0.5555555555555556, \"#d8576b\"], [0.6666666666666666, \"#ed7953\"], [0.7777777777777778, \"#fb9f3a\"], [0.8888888888888888, \"#fdca26\"], [1.0, \"#f0f921\"]], \"type\": \"histogram2d\"}], \"histogram2dcontour\": [{\"colorbar\": {\"outlinewidth\": 0, \"ticks\": \"\"}, \"colorscale\": [[0.0, \"#0d0887\"], [0.1111111111111111, \"#46039f\"], [0.2222222222222222, \"#7201a8\"], [0.3333333333333333, \"#9c179e\"], [0.4444444444444444, \"#bd3786\"], [0.5555555555555556, \"#d8576b\"], [0.6666666666666666, \"#ed7953\"], [0.7777777777777778, \"#fb9f3a\"], [0.8888888888888888, \"#fdca26\"], [1.0, \"#f0f921\"]], \"type\": \"histogram2dcontour\"}], \"mesh3d\": [{\"colorbar\": {\"outlinewidth\": 0, \"ticks\": \"\"}, \"type\": \"mesh3d\"}], \"parcoords\": [{\"line\": {\"colorbar\": {\"outlinewidth\": 0, \"ticks\": \"\"}}, \"type\": \"parcoords\"}], \"pie\": [{\"automargin\": true, \"type\": \"pie\"}], \"scatter\": [{\"marker\": {\"line\": {\"color\": \"#283442\"}}, \"type\": \"scatter\"}], \"scatter3d\": [{\"line\": {\"colorbar\": {\"outlinewidth\": 0, \"ticks\": \"\"}}, \"marker\": {\"colorbar\": {\"outlinewidth\": 0, \"ticks\": \"\"}}, \"type\": \"scatter3d\"}], \"scattercarpet\": [{\"marker\": {\"colorbar\": {\"outlinewidth\": 0, \"ticks\": \"\"}}, \"type\": \"scattercarpet\"}], \"scattergeo\": [{\"marker\": {\"colorbar\": {\"outlinewidth\": 0, \"ticks\": \"\"}}, \"type\": \"scattergeo\"}], \"scattergl\": [{\"marker\": {\"line\": {\"color\": \"#283442\"}}, \"type\": \"scattergl\"}], \"scattermapbox\": [{\"marker\": {\"colorbar\": {\"outlinewidth\": 0, \"ticks\": \"\"}}, \"type\": \"scattermapbox\"}], \"scatterpolar\": [{\"marker\": {\"colorbar\": {\"outlinewidth\": 0, \"ticks\": \"\"}}, \"type\": \"scatterpolar\"}], \"scatterpolargl\": [{\"marker\": {\"colorbar\": {\"outlinewidth\": 0, \"ticks\": \"\"}}, \"type\": \"scatterpolargl\"}], \"scatterternary\": [{\"marker\": {\"colorbar\": {\"outlinewidth\": 0, \"ticks\": \"\"}}, \"type\": \"scatterternary\"}], \"surface\": [{\"colorbar\": {\"outlinewidth\": 0, \"ticks\": \"\"}, \"colorscale\": [[0.0, \"#0d0887\"], [0.1111111111111111, \"#46039f\"], [0.2222222222222222, \"#7201a8\"], [0.3333333333333333, \"#9c179e\"], [0.4444444444444444, \"#bd3786\"], [0.5555555555555556, \"#d8576b\"], [0.6666666666666666, \"#ed7953\"], [0.7777777777777778, \"#fb9f3a\"], [0.8888888888888888, \"#fdca26\"], [1.0, \"#f0f921\"]], \"type\": \"surface\"}], \"table\": [{\"cells\": {\"fill\": {\"color\": \"#506784\"}, \"line\": {\"color\": \"rgb(17,17,17)\"}}, \"header\": {\"fill\": {\"color\": \"#2a3f5f\"}, \"line\": {\"color\": \"rgb(17,17,17)\"}}, \"type\": \"table\"}]}, \"layout\": {\"annotationdefaults\": {\"arrowcolor\": \"#f2f5fa\", \"arrowhead\": 0, \"arrowwidth\": 1}, \"autotypenumbers\": \"strict\", \"coloraxis\": {\"colorbar\": {\"outlinewidth\": 0, \"ticks\": \"\"}}, \"colorscale\": {\"diverging\": [[0, \"#8e0152\"], [0.1, \"#c51b7d\"], [0.2, \"#de77ae\"], [0.3, \"#f1b6da\"], [0.4, \"#fde0ef\"], [0.5, \"#f7f7f7\"], [0.6, \"#e6f5d0\"], [0.7, \"#b8e186\"], [0.8, \"#7fbc41\"], [0.9, \"#4d9221\"], [1, \"#276419\"]], \"sequential\": [[0.0, \"#0d0887\"], [0.1111111111111111, \"#46039f\"], [0.2222222222222222, \"#7201a8\"], [0.3333333333333333, \"#9c179e\"], [0.4444444444444444, \"#bd3786\"], [0.5555555555555556, \"#d8576b\"], [0.6666666666666666, \"#ed7953\"], [0.7777777777777778, \"#fb9f3a\"], [0.8888888888888888, \"#fdca26\"], [1.0, \"#f0f921\"]], \"sequentialminus\": [[0.0, \"#0d0887\"], [0.1111111111111111, \"#46039f\"], [0.2222222222222222, \"#7201a8\"], [0.3333333333333333, \"#9c179e\"], [0.4444444444444444, \"#bd3786\"], [0.5555555555555556, \"#d8576b\"], [0.6666666666666666, \"#ed7953\"], [0.7777777777777778, \"#fb9f3a\"], [0.8888888888888888, \"#fdca26\"], [1.0, \"#f0f921\"]]}, \"colorway\": [\"#636efa\", \"#EF553B\", \"#00cc96\", \"#ab63fa\", \"#FFA15A\", \"#19d3f3\", \"#FF6692\", \"#B6E880\", \"#FF97FF\", \"#FECB52\"], \"font\": {\"color\": \"#f2f5fa\"}, \"geo\": {\"bgcolor\": \"rgb(17,17,17)\", \"lakecolor\": \"rgb(17,17,17)\", \"landcolor\": \"rgb(17,17,17)\", \"showlakes\": true, \"showland\": true, \"subunitcolor\": \"#506784\"}, \"hoverlabel\": {\"align\": \"left\"}, \"hovermode\": \"closest\", \"mapbox\": {\"style\": \"dark\"}, \"paper_bgcolor\": \"rgb(17,17,17)\", \"plot_bgcolor\": \"rgb(17,17,17)\", \"polar\": {\"angularaxis\": {\"gridcolor\": \"#506784\", \"linecolor\": \"#506784\", \"ticks\": \"\"}, \"bgcolor\": \"rgb(17,17,17)\", \"radialaxis\": {\"gridcolor\": \"#506784\", \"linecolor\": \"#506784\", \"ticks\": \"\"}}, \"scene\": {\"xaxis\": {\"backgroundcolor\": \"rgb(17,17,17)\", \"gridcolor\": \"#506784\", \"gridwidth\": 2, \"linecolor\": \"#506784\", \"showbackground\": true, \"ticks\": \"\", \"zerolinecolor\": \"#C8D4E3\"}, \"yaxis\": {\"backgroundcolor\": \"rgb(17,17,17)\", \"gridcolor\": \"#506784\", \"gridwidth\": 2, \"linecolor\": \"#506784\", \"showbackground\": true, \"ticks\": \"\", \"zerolinecolor\": \"#C8D4E3\"}, \"zaxis\": {\"backgroundcolor\": \"rgb(17,17,17)\", \"gridcolor\": \"#506784\", \"gridwidth\": 2, \"linecolor\": \"#506784\", \"showbackground\": true, \"ticks\": \"\", \"zerolinecolor\": \"#C8D4E3\"}}, \"shapedefaults\": {\"line\": {\"color\": \"#f2f5fa\"}}, \"sliderdefaults\": {\"bgcolor\": \"#C8D4E3\", \"bordercolor\": \"rgb(17,17,17)\", \"borderwidth\": 1, \"tickwidth\": 0}, \"ternary\": {\"aaxis\": {\"gridcolor\": \"#506784\", \"linecolor\": \"#506784\", \"ticks\": \"\"}, \"baxis\": {\"gridcolor\": \"#506784\", \"linecolor\": \"#506784\", \"ticks\": \"\"}, \"bgcolor\": \"rgb(17,17,17)\", \"caxis\": {\"gridcolor\": \"#506784\", \"linecolor\": \"#506784\", \"ticks\": \"\"}}, \"title\": {\"x\": 0.05}, \"updatemenudefaults\": {\"bgcolor\": \"#506784\", \"borderwidth\": 0}, \"xaxis\": {\"automargin\": true, \"gridcolor\": \"#283442\", \"linecolor\": \"#506784\", \"ticks\": \"\", \"title\": {\"standoff\": 15}, \"zerolinecolor\": \"#283442\", \"zerolinewidth\": 2}, \"yaxis\": {\"automargin\": true, \"gridcolor\": \"#283442\", \"linecolor\": \"#506784\", \"ticks\": \"\", \"title\": {\"standoff\": 15}, \"zerolinecolor\": \"#283442\", \"zerolinewidth\": 2}}}, \"title\": {\"text\": \"Arabica: Processing Method\"}, \"xaxis\": {\"title\": {\"text\": \"Processing Method\"}}, \"yaxis\": {\"title\": {\"text\": \"Counts\"}}},                        {\"responsive\": true}                    ).then(function(){\n",
       "                            \n",
       "var gd = document.getElementById('0fe5cc1b-f183-4a65-a201-1a7eb9393c10');\n",
       "var x = new MutationObserver(function (mutations, observer) {{\n",
       "        var display = window.getComputedStyle(gd).display;\n",
       "        if (!display || display === 'none') {{\n",
       "            console.log([gd, 'removed!']);\n",
       "            Plotly.purge(gd);\n",
       "            observer.disconnect();\n",
       "        }}\n",
       "}});\n",
       "\n",
       "// Listen for the removal of the full notebook cells\n",
       "var notebookContainer = gd.closest('#notebook-container');\n",
       "if (notebookContainer) {{\n",
       "    x.observe(notebookContainer, {childList: true});\n",
       "}}\n",
       "\n",
       "// Listen for the clearing of the current output cell\n",
       "var outputEl = gd.closest('.output');\n",
       "if (outputEl) {{\n",
       "    x.observe(outputEl, {childList: true});\n",
       "}}\n",
       "\n",
       "                        })                };                });            </script>        </div>"
      ]
     },
     "metadata": {},
     "output_type": "display_data"
    }
   ],
   "source": [
    "## Plot the histograms for each remaining column\n",
    "\n",
    "for column_name in arabica_df:\n",
    "    data_fig = [go.Bar(x=arabica_df[column_name].unique(), y=arabica_df[column_name].value_counts(), \n",
    "                   marker_color='white')]\n",
    "    fig = go.Figure(data=data_fig)\n",
    "    fig.update_layout(template='plotly_dark', title='Arabica: ' + column_name, \n",
    "                  yaxis=dict(title='Counts'), xaxis=dict(title=column_name))\n",
    "\n",
    "    fig.show()"
   ]
  },
  {
   "cell_type": "code",
   "execution_count": 136,
   "metadata": {},
   "outputs": [
    {
     "data": {
      "text/plain": [
       "Nicaragua      True\n",
       "Uganda         True\n",
       "Kenya          True\n",
       "El Salvador    True\n",
       "Indonesia      True\n",
       "China          True\n",
       "Malawi         True\n",
       "Name: Country of Origin, dtype: bool"
      ]
     },
     "execution_count": 136,
     "metadata": {},
     "output_type": "execute_result"
    }
   ],
   "source": [
    "## Identify: Which countries have more than 10 and less than 30 entries?\n",
    "\n",
    "mask_country_thirty = arabica_df[\"Country of Origin\"].value_counts() < 30\n",
    "mask_country_ten = arabica_df[\"Country of Origin\"].value_counts() > 10\n",
    "mask = (mask_country_ten == mask_country_thirty)\n",
    "mask[mask]"
   ]
  },
  {
   "cell_type": "code",
   "execution_count": 137,
   "metadata": {},
   "outputs": [
    {
     "data": {
      "text/plain": [
       "La Plata    True\n",
       "Name: Producer, dtype: bool"
      ]
     },
     "execution_count": 137,
     "metadata": {},
     "output_type": "execute_result"
    }
   ],
   "source": [
    "## Identify: Which is the producer with most entries?\n",
    "\n",
    "max_producer = (arabica_df[\"Producer\"].value_counts() == max(arabica_df[\"Producer\"].value_counts()))\n",
    "max_producer[max_producer]"
   ]
  },
  {
   "cell_type": "code",
   "execution_count": 138,
   "metadata": {},
   "outputs": [
    {
     "data": {
      "text/plain": [
       "Washed / Wet    True\n",
       "Name: Processing Method, dtype: bool"
      ]
     },
     "execution_count": 138,
     "metadata": {},
     "output_type": "execute_result"
    }
   ],
   "source": [
    "## Identify: What is the most common \"Processing Method\"\n",
    "\n",
    "most_common_proccessing = (arabica_df[\"Processing Method\"].value_counts() == max(arabica_df[\"Processing Method\"].value_counts()))\n",
    "most_common_proccessing[most_common_proccessing]"
   ]
  },
  {
   "cell_type": "code",
   "execution_count": 139,
   "metadata": {},
   "outputs": [
    {
     "data": {
      "text/plain": [
       "Pulped natural / honey    True\n",
       "Name: Processing Method, dtype: bool"
      ]
     },
     "execution_count": 139,
     "metadata": {},
     "output_type": "execute_result"
    }
   ],
   "source": [
    "## Identify: What is the least common \"Processing Method\"\n",
    "\n",
    "least_common_proccessing = (arabica_df[\"Processing Method\"].value_counts() == min(arabica_df[\"Processing Method\"].value_counts()))\n",
    "least_common_proccessing[least_common_proccessing]"
   ]
  },
  {
   "cell_type": "code",
   "execution_count": null,
   "metadata": {},
   "outputs": [],
   "source": []
  }
 ],
 "metadata": {
  "kernelspec": {
   "display_name": "Python 3",
   "language": "python",
   "name": "python3"
  },
  "language_info": {
   "codemirror_mode": {
    "name": "ipython",
    "version": 3
   },
   "file_extension": ".py",
   "mimetype": "text/x-python",
   "name": "python",
   "nbconvert_exporter": "python",
   "pygments_lexer": "ipython3",
   "version": "3.8.5"
  }
 },
 "nbformat": 4,
 "nbformat_minor": 4
}
